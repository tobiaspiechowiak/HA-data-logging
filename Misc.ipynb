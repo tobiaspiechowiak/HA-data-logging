{
 "cells": [
  {
   "cell_type": "code",
   "execution_count": 1,
   "metadata": {},
   "outputs": [],
   "source": [
    "#loading some stuff \n",
    "import matplotlib.pyplot as plt\n",
    "import matplotlib\n",
    "import numpy as np\n",
    "import pandas as pd\n",
    "import pickle"
   ]
  },
  {
   "cell_type": "code",
   "execution_count": 2,
   "metadata": {},
   "outputs": [],
   "source": [
    "#setting system path\n",
    "import sys\n",
    "sys.path.append('c:/Users/tpiechowiak/Documents/BEAR/GNOS/sws_machine_learning/')\n",
    "base_path = 'c:/Users/tpiechowiak/OneDrive - GN Store Nord/GNOS data/'"
   ]
  },
  {
   "cell_type": "code",
   "execution_count": 3,
   "metadata": {
    "tags": []
   },
   "outputs": [
    {
     "name": "stdout",
     "output_type": "stream",
     "text": [
      "Read RFT blob\n"
     ]
    }
   ],
   "source": [
    "#now loading all the necessary data files\n",
    "#now loading the pickle file containing the audiogram data\n",
    "\n",
    "#now load the demographics data\n",
    "with open(base_path + \"LatestRFTSetting.pkl\", \"rb\") as input_file:\n",
    "    RFT = pickle.load(input_file)\n",
    "print(\"Read RFT blob\")\n",
    "\n"
   ]
  },
  {
   "cell_type": "code",
   "execution_count": 20,
   "metadata": {},
   "outputs": [
    {
     "data": {
      "text/plain": [
       "0         Syllabic\n",
       "1         Syllabic\n",
       "2             Fast\n",
       "3         Syllabic\n",
       "4         Syllabic\n",
       "            ...   \n",
       "462206    Syllabic\n",
       "462207        Fast\n",
       "462208        Fast\n",
       "462209        Fast\n",
       "462210        Fast\n",
       "Name: prg0_AGCI, Length: 462211, dtype: object"
      ]
     },
     "execution_count": 20,
     "metadata": {},
     "output_type": "execute_result"
    }
   ],
   "source": [
    "RFT['prg0_']"
   ]
  },
  {
   "cell_type": "code",
   "execution_count": 7,
   "metadata": {},
   "outputs": [
    {
     "data": {
      "text/plain": [
       "0          (250 24) (500 16) (750 25) (1000 30) (1500 20...\n",
       "1          (250 0) (500 0) (750 3) (1000 8) (1500 17) (2...\n",
       "2          (250 2) (500 8) (750 15) (1000 15) (1500 18) ...\n",
       "3          (250 0) (500 0) (750 0) (1000 1) (1500 4) (20...\n",
       "4          (250 20) (500 20) (750 19) (1000 19) (1500 9)...\n",
       "                                ...                        \n",
       "311639     (250 29) (500 29) (750 29) (1000 31) (1500 31...\n",
       "311640     (250 1) (500 3) (750 5) (1000 10) (1500 9) (2...\n",
       "311641     (250 1) (500 3) (750 5) (1000 10) (1500 10) (...\n",
       "311642     (250 27) (500 37) (750 44) (1000 44) (1500 38...\n",
       "311643     (250 9) (500 20) (750 24) (1000 27) (1500 27)...\n",
       "Name: prg0_GainsDB50, Length: 311644, dtype: object"
      ]
     },
     "execution_count": 7,
     "metadata": {},
     "output_type": "execute_result"
    }
   ],
   "source": []
  },
  {
   "cell_type": "code",
   "execution_count": null,
   "metadata": {},
   "outputs": [],
   "source": []
  }
 ],
 "metadata": {
  "kernelspec": {
   "display_name": "Python 3",
   "language": "python",
   "name": "python3"
  },
  "language_info": {
   "codemirror_mode": {
    "name": "ipython",
    "version": 3
   },
   "file_extension": ".py",
   "mimetype": "text/x-python",
   "name": "python",
   "nbconvert_exporter": "python",
   "pygments_lexer": "ipython3",
   "version": "3.7.6"
  }
 },
 "nbformat": 4,
 "nbformat_minor": 2
}
