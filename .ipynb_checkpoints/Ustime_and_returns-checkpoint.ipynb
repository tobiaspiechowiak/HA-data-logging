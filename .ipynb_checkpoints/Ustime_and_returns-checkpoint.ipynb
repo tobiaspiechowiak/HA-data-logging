{
 "cells": [
  {
   "cell_type": "code",
   "execution_count": 1,
   "metadata": {},
   "outputs": [],
   "source": [
    "#loading some stuff \n",
    "import matplotlib.pyplot as plt\n",
    "import matplotlib\n",
    "import numpy as np\n",
    "import pandas as pd\n",
    "import pickle\n",
    "import datetime\n"
   ]
  },
  {
   "cell_type": "code",
   "execution_count": 2,
   "metadata": {},
   "outputs": [],
   "source": [
    "#setting system path\n",
    "import sys\n",
    "sys.path.append('/home/tobiasz820/sws_machine_learning/')\n",
    "base_path = '/home/tobiasz820/data/'"
   ]
  },
  {
   "cell_type": "code",
   "execution_count": 3,
   "metadata": {},
   "outputs": [
    {
     "name": "stdout",
     "output_type": "stream",
     "text": [
      "Read return data from pickle file\n",
      "Read RFT from pickle file\n",
      "Read use-time from pickle file\n"
     ]
    }
   ],
   "source": [
    "#now loading all the necessary data files\n",
    "#now loading the pickle file containing the audiogram data\n",
    "with open(base_path + \"AllReturns.pkl\", \"rb\") as input_file:\n",
    "    RET = pickle.load(input_file)\n",
    "print(\"Read return data from pickle file\")\n",
    "\n",
    "with open(base_path + \"LatestRFTSetting.pkl\", \"rb\") as input_file:\n",
    "    RFT = pickle.load(input_file)\n",
    "print(\"Read RFT from pickle file\")\n",
    "\n",
    "with open(base_path + \"UseTime_resampled.pkl\", \"rb\") as input_file:\n",
    "    use_time = pickle.load(input_file)\n",
    "print(\"Read use-time from pickle file\")\n"
   ]
  },
  {
   "cell_type": "code",
   "execution_count": 4,
   "metadata": {},
   "outputs": [
    {
     "data": {
      "text/plain": [
       "Index(['DataSourceId', 'SerialNumber', 'InSerialNumber', 'ServiceItemNumber',\n",
       "       'RootCause', 'ReturnDate', 'ReturnNumber'],\n",
       "      dtype='object')"
      ]
     },
     "execution_count": 4,
     "metadata": {},
     "output_type": "execute_result"
    }
   ],
   "source": [
    "RET.keys()"
   ]
  },
  {
   "cell_type": "code",
   "execution_count": 5,
   "metadata": {
    "scrolled": true
   },
   "outputs": [
    {
     "name": "stdout",
     "output_type": "stream",
     "text": [
      "['' \"'\" '1-Incorrecte publicatie' '10-Onoordeelkundig gebruik'\n",
      " '11-Achterstallig Onderhoud' '2-Gebruiksschade' '20-Verkoopklaar maken'\n",
      " '21- Kleuromkasting' '22- Instellings probleem' '3-Molest'\n",
      " '4-Niet volgen van instructies' '6-Accesoires' '9-Externe Invloed'\n",
      " 'Aanpas software' 'Aanpassing op vraag van klant'\n",
      " 'Abdruck, Schalenbearbeitung' 'Abused' 'Acabado'\n",
      " 'Actualización no realizada' 'Adhésif non conforme' 'Adjusted gain'\n",
      " 'Afgebroken' 'Aid over buffed' 'Andere' 'Andere/onbekend' 'Andet'\n",
      " 'Anfragenerfüllung' 'Angle Wrong' 'Annet' 'Anpasssoftware'\n",
      " 'Arbeitsausführung / Mitarbeiter' 'Assembly competence'\n",
      " 'Aucun problème constaté' 'Audio Designer'\n",
      " 'Audiogram out of suggested fitting range for model'\n",
      " 'Ausführung Finishing' 'Autre' 'BA4 reprogrammed with new audiogram'\n",
      " 'Back Order/Produktverfügbarkeit' 'Back order/Product availability'\n",
      " 'Bajo investigación' 'Batt door and compartment - physical damage.'\n",
      " 'Battery Rusting' 'Battery contacts/wires corroded'\n",
      " 'Battery drain normal' 'Bauteil elektrisch defekt' 'Bedieningsfout'\n",
      " 'Betriebssystem' 'Borte' 'Broken' 'Broken shell/case, physical damage'\n",
      " 'Broken wire' 'Broken, Cracked, Chipped' 'Broken/frayed  wire'\n",
      " 'Broken/frayed wire' 'Broken/frayed wire problem' 'Bruger fejl'\n",
      " 'C/Pt Error/Mis-understanding' 'C/Pt error/Misunderstanding'\n",
      " 'C/Pt error/mis-understanding' 'Cable cortado/roto' 'Calibrated'\n",
      " 'Canal long/short' 'Causa. corto circuito' 'Causa: altro'\n",
      " 'Causa: cablaggi interrotti/intermittenti' 'Causa: cerume'\n",
      " 'Causa: componente elettronico difettoso'\n",
      " 'Causa: componente meccanico difettoso' 'Causa: componente obsoleto'\n",
      " 'Causa: corrosione' 'Causa: danno fisico'\n",
      " 'Causa: dati non inseriti correttamente' 'Causa: firmware danneggiato'\n",
      " 'Causa: impronta incompleta' 'Causa: intervento non autorizzato'\n",
      " 'Causa: lavorazione guscio'\n",
      " 'Causa: mancata soddisfazione della richiesta' 'Causa: manodopera'\n",
      " 'Causa: richiesta cliente' 'Causa: rifinitura apparecchio'\n",
      " 'Causa: rivestimento non conforme' 'Causa: scarsa tenuta'\n",
      " 'Causa: software di fitting' 'Causa: umidità'\n",
      " 'Causa: ventilazione non idonea' 'Cera' 'Cerumen' 'Change of ear anatomy'\n",
      " 'Client non contacté' 'Comp. mech. defect' 'Complaint unverified'\n",
      " 'Component electrical defect' 'Component loose' 'Component mech. defect'\n",
      " 'Component mechanish defect' 'Componente obsoleto' 'Composant défectueux'\n",
      " 'Contract' 'Controle van instellingen' 'Corps étranger' 'Corrosie'\n",
      " 'Corrosion' 'Corrosión' 'Corrupted data/OS/Software'\n",
      " 'Corrupted data/OS/software' 'Cortocircuito' 'Court-circuit électrique'\n",
      " 'Courtesy circuit replacement' 'Cracked shell' 'Cust. requred'\n",
      " 'Customer modification' 'Customer request'\n",
      " 'Customer request change housing colour' 'Cérumen'\n",
      " 'DAl cont. (BTE) - wax, moisture or corrosion'\n",
      " 'Data was not entered correctly' 'Daño Físico' 'Debris in earhook'\n",
      " 'Defective Component' 'Defective Solder Connection'\n",
      " 'Defective component (electrical)' 'Defective component (mechanical)'\n",
      " 'Defective, Damaged' 'Defekt durch gebrochene/ ausgefranste Litze'\n",
      " 'Deler kan ikke skaffes' 'Demande achevée' 'Demande du client'\n",
      " 'Detached, Disconnected' 'Device Operating System' 'Device SW'\n",
      " 'Device does not require programming'\n",
      " 'Device received with factory programming' 'Device reprogrammed'\n",
      " 'Device software' 'Did not contact customer' 'Difetto non riscontrato'\n",
      " 'Difficult to insert' 'Difficult to remove' 'Dirty' 'Dislodged Component'\n",
      " 'Dispenser modification to impression' 'Dispenser modification to shell'\n",
      " 'Dual Mic Gain Mismatch' 'EA4 reprogrammed with new audiogram'\n",
      " 'Ear sensitivity' 'Ear structure' 'Earhook - blocked w/ wax/debris'\n",
      " 'Electrical short' 'Elektrisk komponentfeil'\n",
      " 'Empreinte de mauvaise qualité' 'En cours' 'Endommagé'\n",
      " 'Error en el puerto de conexión' 'Event non conforme' 'Exposure to heat'\n",
      " 'Fallo eléctrico del componente' 'Fallo mecánico del componente'\n",
      " 'Falsche Dateineingabe' 'Falsche Versiegelung' 'Feedback'\n",
      " 'Fehlerhafter Prozess' 'Feuchtigkeit' 'Fil usé ou cassé'\n",
      " 'Finishing workmanship' 'Fitting SW' 'Fitting Software'\n",
      " 'Fitting software' 'Foreign material' 'Fremdmaterial' 'Fremmed materiale'\n",
      " 'Fremmedlegeme' 'Fugt' 'Fuktighet' 'Fysisk skade' 'Fysisk skadet'\n",
      " 'Gebroken/aangetaste draad' 'Geen afwijking gevonden'\n",
      " 'Geen audiogram in toestel' 'Geen verdere acties'\n",
      " 'Gegevens niet terug te vinden' 'Gerätesoftware' 'Good will'\n",
      " 'Hearing aid cannot charge' 'High Drain' 'Hole in vent'\n",
      " 'Housing battery door loose' 'Humedad' 'Humidité' 'Ikke sporbart'\n",
      " 'Illegible' 'Impresión defectuosa' 'Impressions Scans error'\n",
      " 'In onderzoek' 'Informationen nicht korrekt eingegeben'\n",
      " 'Ingen feil funnet' 'Ingen fejl konstateret' 'Intern misforståelse'\n",
      " 'Intern proces probleem' 'Internal Process problem'\n",
      " 'Internal codes reset' 'Internal layout workmanship'\n",
      " 'Internal layout/workmanship' 'Internal mis-communication'\n",
      " 'Internal miscommunication' 'Internal process problem'\n",
      " 'Interner Arbeitsablauf / Prozess' 'Internes Kommunikationsproblem'\n",
      " 'Kein Fehler feststellbar' 'Kein weiteres Handeln' 'Klantverzoek'\n",
      " 'Komponent elektrisk defekt' 'Komponent mekanisk defekt'\n",
      " 'Komponente abgenutzt' 'Komponente. mech. defekt' 'Korrosion'\n",
      " 'Kortsluiting' 'Kortslutning' 'Kundemodifisering' 'Kundenanfrage'\n",
      " 'Kurzschluss' 'Lacado no conforme' 'Lack of traceability' 'Lam/Versleten'\n",
      " 'Lead Dress' 'Leaky' 'Lednings forbindelser' 'Ledningsbrudd' 'Locker'\n",
      " 'Logiciel de programmation' 'Loose' 'Loose Fit' 'Loose battery contact'\n",
      " 'Loose contact' 'Loose fit' 'Loose tubing' 'Loss and damage replacement'\n",
      " 'Mal pegado' 'Mala comunicación interna' 'Mangelhafter Abdruck' 'Mangler'\n",
      " 'Marketing documentation inadequate' 'Material extraño'\n",
      " 'Materiale non di nostra produzione' 'Matériel étranger'\n",
      " 'Mauvaise direction du conduit' 'Mekanisk komponentfeil'\n",
      " 'Mic cover missing' 'Mic.- blocked w/wax/debris' 'Misshapped, Deformed'\n",
      " 'Missing Component' 'Missing Component, Material' 'Missing component'\n",
      " 'Model changed' 'Modificación del cliente' 'Moisture' 'Moisture damage'\n",
      " 'NULL' 'Nicht erfolgter Kundenrückruf' 'No further action'\n",
      " 'No problem found' 'No se encuentra problema' 'Non conforming adhesive'\n",
      " 'Non conforming coating' 'Non conforming vent' 'Not Beltone Part'\n",
      " 'Note new serial number' 'Obsoleted part'\n",
      " 'Onderdeel niet meer in gebruik' 'Open Circuit' 'Order entry' 'Other'\n",
      " 'Otro' 'Patient Registration' 'Peeling' 'Physical damage'\n",
      " 'Pièce défectueuse' 'Pièce obsolète'\n",
      " 'Please reprogram device (both if binaural)' 'Poor canal direction'\n",
      " 'Poor impression' 'Poor receiver alignment' 'Poor seal'\n",
      " 'Position, Alignment' 'Preventive Measure' 'Prijsopgave niet akkoord'\n",
      " 'Problem could not be duplicated' 'Problema de formación'\n",
      " 'Problema en el proceso interno' 'Problème de finition'\n",
      " 'Problème de formation' 'Problème de traçabilité'\n",
      " 'Problème sur fabrication de coque'\n",
      " 'Program corrupted. Please create new fitting' 'Protrudes'\n",
      " 'Präventiv empfohlen' 'Rebuild with New Parts'\n",
      " 'Rec. -blocked w/ wax/ debris'\n",
      " 'Recommend changing wax protection more often'\n",
      " 'Recommend use of dry aid kit' 'Repair related calibration'\n",
      " 'Replaced Aid' 'Request fulfillment' 'Request fulfilment'\n",
      " 'Request missed' 'Requisito del cliente' 'Return unrepaired' 'Rust/irr'\n",
      " 'Réglages illisibles' 'SWR44' 'Schallaustritt' 'Schallaustritt Verlauf'\n",
      " 'Schlauch beschädigt' 'Schulungsbedarf' 'Service procedure'\n",
      " 'Shell Material' 'Shell cracked' 'Shell workmanship' 'Shorting wires'\n",
      " 'Slechte Afdruk' 'Software de progrmación' 'Software del audífono'\n",
      " 'Software toestel' 'Solicitud del cliente' 'Sonstiges' 'Styresystem'\n",
      " 'Tc - weak' 'Technisch defect' 'Tight' 'Tight All Over' 'Tight or Frozen'\n",
      " 'Tight/Loose shell' 'Tight/loose shell' 'Too Large' 'Too Long'\n",
      " 'Too Loose' 'Too Short' 'Too tight' 'Torn' 'Trabajo de montaje'\n",
      " 'Trabajo en la carcasa' 'Training issue' 'Training issues' 'Tæret'\n",
      " 'Uncomfortable' 'Under investigation' 'Under undersøgelse'\n",
      " 'Undersøkes nærmere' 'Unter Beobachtung' 'Up-date not implemented'\n",
      " 'Update nicht implementiert' 'Update not implemented' 'User expectation'\n",
      " 'Vakmanschap' 'Vakmanschap/Technician' 'Vent not big enough'\n",
      " 'Venting no conforme' 'Veraltertes Bauteil'\n",
      " 'Verandering van anatomie v/h oor' 'Verkeerd begrepen' 'Verkeerd gelijmd'\n",
      " 'Verkeerde data ingegeven' 'Verkeerde interne communicatie' 'Verzerrung'\n",
      " 'Veränderung der Anatomie' 'Vocht' 'Voks' 'Vreemd materiaal' 'Wasser'\n",
      " 'Water damage' 'Wax' 'Wire - broken at battery contact' 'Wiring Wrong'\n",
      " 'Workmanship/Operator' 'Workmanship/operator' 'Works out of Ear'\n",
      " 'Worn condition' 'Wrong' 'Wrong Color/Color Mismatch'\n",
      " 'Wrong Component, Material' 'Wrong Material Programmed'\n",
      " 'Wrong Side Component' 'Zichtbare schade' 'abgenutzer Lack'\n",
      " 'aid too large' 'battery Door loose' 'canal too long' 'cause by customer'\n",
      " 'cerumen/vocht' 'corrupted memory' 'different colour wanted' 'dirty'\n",
      " 'elektrisch defektes Bauteil' 'falscher Kleber' 'feedback'\n",
      " 'fehlende Ausrüstung' 'gebrochene/ ausgefranste Litze'\n",
      " 'gelöste Leimstelle' 'in' 'loose contact' 'lost in transit'\n",
      " 'mechanisch beschädigt' 'mechanischer Defekt' 'nicht Rückverfolgbar'\n",
      " 'no client settings' 'o' 'physikalisch defektes Bauteil' 'short canal'\n",
      " 'unzureichende Marketingdokumentation' 'wire 단선' 'wire 손상/갈라짐'\n",
      " 'worn condition' 'Änderung durch Kunden' 'Änderung gemäss Kundenwunsch'\n",
      " 'Øret har forandret seg' 'きつい' 'さび、腐食' 'さび・腐食' 'その他' 'ゆるい' 'インプレッション不良'\n",
      " 'オーバーホール' 'ケーシング工程のミス' 'コーティング' 'コーティング不良' 'シェルタイプ変更' 'テグス切れ' 'テグス取り付け'\n",
      " 'テグス抜け' 'ハウジングカラー交換' 'ハウジング剥がれ' 'ハウリング' 'ハウリング-シェル形状' 'ハウリング-内部発信' 'ヒビ'\n",
      " 'フィッティングソフト' 'フィッティング不具合' 'フィッティング不良' 'プログラムフリーズ' 'プログラム故障' 'ベント変更'\n",
      " 'マイクチューブが短い' 'マイクチューブが長い' 'レシーバーチューブサイズ変更' 'ワックスガード変更' '不能编程' '予防措置'\n",
      " '修理不能' '入れづらい' '内啸叫' '内部ハウリング' '再現せず' '初始化' '初期不良（製造不備）' '初期不良（部品）' '加渔线'\n",
      " '劣化' '印刷エラー（誤記）' '发霉' '取扱い不備' '受潮' '受话器失真' '受话器死' '受话器脏堵' '变形' '啸叫，重组装'\n",
      " '坏损' '基板不良' '堵住' '塗装はがれ' '增加受话器' '增加机芯' '增加机芯和麦克风' '增加麦克风'\n",
      " '外壳裂纹，一旦切开，就会导致完全破裂' '外壳裂补' '外耳道が短い' '客户主述啸叫，重制外壳' '客户要求更换' '客户要求：不修退回'\n",
      " '导线坏' '布线、焊点不良' '布线不良' '廃棄された物' '弹片故障' '感度不良（出力低下）' '抜けてくる' '损坏' '换新橡胶件'\n",
      " '接着不良' '接触不良' '損傷・破損・ヒビ' '操作性が悪い（VC/PB）' '操作性が悪い（Vol/SW/PB）' '断線' '无声'\n",
      " '更换PC盖' '更换外壳，更换面板' '更换电池仓' '更换耳勾' '更换角板' '更换防尘网' '机壳坏损' '机芯噪音' '机芯死'\n",
      " '杂音' '检测OK' '检测OK,技术部要求更换零部件' '欠損' '水没' '汗や湿気による劣化' '汗・湿気による劣化'\n",
      " '汗・湿気による故障' '汚れ' '消音モード' '添加橡胶件' '清洗' '異常なし' '異物混入' '痛い' '発注ミス' '破損' '紛失'\n",
      " '経年劣化' '线断' '缺料' '老化试验' '耗电量大' '耳の構造変化' '耳型（社内連絡用コード）' '耳垢詰まり' '脏污' '腐蚀'\n",
      " '裂纹/破裂' '装用耳変更' '製造・修理不備' '部品不良' '部品（新品）不良' '销断了' '陥没' '電池の液漏れ' '面板坏损，变形'\n",
      " '音频' '顧客による改造' '顧客の要望' '顧客の要求' '顧客の要求違い' '麦克风低增' '麦克风噪音' '麦克风死' '麦克风脏堵'\n",
      " '고객 요청(Customer request)' '공급 불가 단종부품' '귀지' '물리적인 손상(Physical damage)'\n",
      " '보청기가 너무 큼' '부식' '부품 손실' '부품 작동 불량 - 전기적 이상' '부품 파손 - 물리적인 손상'\n",
      " '불편함(Uncomfortable)' '손상된 데이타/OS/Software' '쉘 깨짐' '습기' '업데이트가 안됨'\n",
      " '연결단자가 헐거움(프로그램 핀)' '이상 발견 안됨' '캐널이 빡빡함.(tight canal)' '튜브가 헐거움']\n"
     ]
    }
   ],
   "source": [
    "print(np.unique(RET['RootCause']))"
   ]
  },
  {
   "cell_type": "code",
   "execution_count": 6,
   "metadata": {},
   "outputs": [],
   "source": [
    "RFT_Setting = RFT[['SerialNumber','HearingInstrumentId']]"
   ]
  },
  {
   "cell_type": "code",
   "execution_count": 7,
   "metadata": {},
   "outputs": [
    {
     "data": {
      "text/plain": [
       "Index(['SerialNumber', 'HearingInstrumentId'], dtype='object')"
      ]
     },
     "execution_count": 7,
     "metadata": {},
     "output_type": "execute_result"
    }
   ],
   "source": [
    "RFT_Setting.keys()"
   ]
  },
  {
   "cell_type": "code",
   "execution_count": 8,
   "metadata": {},
   "outputs": [],
   "source": [
    "RET_basis = RET[['SerialNumber','RootCause', 'ReturnDate']]"
   ]
  },
  {
   "cell_type": "code",
   "execution_count": 9,
   "metadata": {},
   "outputs": [
    {
     "data": {
      "text/plain": [
       "Index(['SerialNumber', 'RootCause', 'ReturnDate'], dtype='object')"
      ]
     },
     "execution_count": 9,
     "metadata": {},
     "output_type": "execute_result"
    }
   ],
   "source": [
    "RET_basis.keys()"
   ]
  },
  {
   "cell_type": "code",
   "execution_count": 10,
   "metadata": {},
   "outputs": [
    {
     "data": {
      "text/plain": [
       "Index(['ADLRawData_HearingInstrumentId', 'UseTimeWeekly', 'InterTimeInterval'], dtype='object')"
      ]
     },
     "execution_count": 10,
     "metadata": {},
     "output_type": "execute_result"
    }
   ],
   "source": [
    "use_time.keys()"
   ]
  },
  {
   "cell_type": "code",
   "execution_count": 11,
   "metadata": {},
   "outputs": [],
   "source": [
    "use_time.rename(columns={'ADLRawData_HearingInstrumentId':'HearingInstrumentId'}, inplace = True)"
   ]
  },
  {
   "cell_type": "code",
   "execution_count": 12,
   "metadata": {},
   "outputs": [],
   "source": [
    "use_time.drop(columns='InterTimeInterval', inplace = True)"
   ]
  },
  {
   "cell_type": "code",
   "execution_count": 13,
   "metadata": {},
   "outputs": [],
   "source": [
    "#now try to merge the dataframes \n",
    "tmp = RFT_Setting.merge(RET_basis,on='SerialNumber',how='inner')\n",
    "use_time_returns = pd.merge(use_time.reset_index(),tmp.reset_index(), on ='HearingInstrumentId', how='inner')"
   ]
  },
  {
   "cell_type": "code",
   "execution_count": 14,
   "metadata": {},
   "outputs": [
    {
     "data": {
      "text/html": [
       "<div>\n",
       "<style scoped>\n",
       "    .dataframe tbody tr th:only-of-type {\n",
       "        vertical-align: middle;\n",
       "    }\n",
       "\n",
       "    .dataframe tbody tr th {\n",
       "        vertical-align: top;\n",
       "    }\n",
       "\n",
       "    .dataframe thead th {\n",
       "        text-align: right;\n",
       "    }\n",
       "</style>\n",
       "<table border=\"1\" class=\"dataframe\">\n",
       "  <thead>\n",
       "    <tr style=\"text-align: right;\">\n",
       "      <th></th>\n",
       "      <th>SerialNumber</th>\n",
       "      <th>HearingInstrumentId</th>\n",
       "      <th>RootCause</th>\n",
       "      <th>ReturnDate</th>\n",
       "    </tr>\n",
       "  </thead>\n",
       "  <tbody>\n",
       "    <tr>\n",
       "      <th>0</th>\n",
       "      <td>42821F2BF9878A8C5D9C0D4566753B26E155070321307E...</td>\n",
       "      <td>17CC9A93088AF04599791EEB9C4C82992F42A23EDF3E4D...</td>\n",
       "      <td></td>\n",
       "      <td>2019-12-27T00:00:00</td>\n",
       "    </tr>\n",
       "    <tr>\n",
       "      <th>1</th>\n",
       "      <td>42821F2BF9878A8C5D9C0D4566753B26E155070321307E...</td>\n",
       "      <td>17CC9A93088AF04599791EEB9C4C82992F42A23EDF3E4D...</td>\n",
       "      <td></td>\n",
       "      <td>2019-12-27T00:00:00</td>\n",
       "    </tr>\n",
       "    <tr>\n",
       "      <th>2</th>\n",
       "      <td>42821F2BF9878A8C5D9C0D4566753B26E155070321307E...</td>\n",
       "      <td>17CC9A93088AF04599791EEB9C4C82992F42A23EDF3E4D...</td>\n",
       "      <td></td>\n",
       "      <td>2019-12-27T00:00:00</td>\n",
       "    </tr>\n",
       "    <tr>\n",
       "      <th>3</th>\n",
       "      <td>42821F2BF9878A8C5D9C0D4566753B26E155070321307E...</td>\n",
       "      <td>17CC9A93088AF04599791EEB9C4C82992F42A23EDF3E4D...</td>\n",
       "      <td></td>\n",
       "      <td>2019-12-27T00:00:00</td>\n",
       "    </tr>\n",
       "    <tr>\n",
       "      <th>4</th>\n",
       "      <td>42821F2BF9878A8C5D9C0D4566753B26E155070321307E...</td>\n",
       "      <td>17CC9A93088AF04599791EEB9C4C82992F42A23EDF3E4D...</td>\n",
       "      <td></td>\n",
       "      <td>2019-12-27T00:00:00</td>\n",
       "    </tr>\n",
       "    <tr>\n",
       "      <th>...</th>\n",
       "      <td>...</td>\n",
       "      <td>...</td>\n",
       "      <td>...</td>\n",
       "      <td>...</td>\n",
       "    </tr>\n",
       "    <tr>\n",
       "      <th>116610</th>\n",
       "      <td>B02C1B71B113B8E92716DEEFEBC3CF158543F33AC9EB3E...</td>\n",
       "      <td>7803029BD0517DAC6E5391D617B0F8083E90D7C5E97DCE...</td>\n",
       "      <td></td>\n",
       "      <td>2018-05-03T00:00:00</td>\n",
       "    </tr>\n",
       "    <tr>\n",
       "      <th>116611</th>\n",
       "      <td>B02C1B71B113B8E92716DEEFEBC3CF158543F33AC9EB3E...</td>\n",
       "      <td>7803029BD0517DAC6E5391D617B0F8083E90D7C5E97DCE...</td>\n",
       "      <td></td>\n",
       "      <td>2018-05-03T00:00:00</td>\n",
       "    </tr>\n",
       "    <tr>\n",
       "      <th>116612</th>\n",
       "      <td>B02C1B71B113B8E92716DEEFEBC3CF158543F33AC9EB3E...</td>\n",
       "      <td>7803029BD0517DAC6E5391D617B0F8083E90D7C5E97DCE...</td>\n",
       "      <td></td>\n",
       "      <td>2018-05-03T00:00:00</td>\n",
       "    </tr>\n",
       "    <tr>\n",
       "      <th>116613</th>\n",
       "      <td>D9C31FA15266DB6F2C2A56F29D6FF0AF1719DAB68FC62B...</td>\n",
       "      <td>A0C2507A2DB9902D72D71A1554BA52A3F006EF35BDC3F1...</td>\n",
       "      <td></td>\n",
       "      <td>2019-12-20T00:00:00</td>\n",
       "    </tr>\n",
       "    <tr>\n",
       "      <th>116614</th>\n",
       "      <td>D9C31FA15266DB6F2C2A56F29D6FF0AF1719DAB68FC62B...</td>\n",
       "      <td>A0C2507A2DB9902D72D71A1554BA52A3F006EF35BDC3F1...</td>\n",
       "      <td></td>\n",
       "      <td>2019-12-20T00:00:00</td>\n",
       "    </tr>\n",
       "  </tbody>\n",
       "</table>\n",
       "<p>116615 rows × 4 columns</p>\n",
       "</div>"
      ],
      "text/plain": [
       "                                             SerialNumber  \\\n",
       "0       42821F2BF9878A8C5D9C0D4566753B26E155070321307E...   \n",
       "1       42821F2BF9878A8C5D9C0D4566753B26E155070321307E...   \n",
       "2       42821F2BF9878A8C5D9C0D4566753B26E155070321307E...   \n",
       "3       42821F2BF9878A8C5D9C0D4566753B26E155070321307E...   \n",
       "4       42821F2BF9878A8C5D9C0D4566753B26E155070321307E...   \n",
       "...                                                   ...   \n",
       "116610  B02C1B71B113B8E92716DEEFEBC3CF158543F33AC9EB3E...   \n",
       "116611  B02C1B71B113B8E92716DEEFEBC3CF158543F33AC9EB3E...   \n",
       "116612  B02C1B71B113B8E92716DEEFEBC3CF158543F33AC9EB3E...   \n",
       "116613  D9C31FA15266DB6F2C2A56F29D6FF0AF1719DAB68FC62B...   \n",
       "116614  D9C31FA15266DB6F2C2A56F29D6FF0AF1719DAB68FC62B...   \n",
       "\n",
       "                                      HearingInstrumentId RootCause  \\\n",
       "0       17CC9A93088AF04599791EEB9C4C82992F42A23EDF3E4D...             \n",
       "1       17CC9A93088AF04599791EEB9C4C82992F42A23EDF3E4D...             \n",
       "2       17CC9A93088AF04599791EEB9C4C82992F42A23EDF3E4D...             \n",
       "3       17CC9A93088AF04599791EEB9C4C82992F42A23EDF3E4D...             \n",
       "4       17CC9A93088AF04599791EEB9C4C82992F42A23EDF3E4D...             \n",
       "...                                                   ...       ...   \n",
       "116610  7803029BD0517DAC6E5391D617B0F8083E90D7C5E97DCE...             \n",
       "116611  7803029BD0517DAC6E5391D617B0F8083E90D7C5E97DCE...             \n",
       "116612  7803029BD0517DAC6E5391D617B0F8083E90D7C5E97DCE...             \n",
       "116613  A0C2507A2DB9902D72D71A1554BA52A3F006EF35BDC3F1...             \n",
       "116614  A0C2507A2DB9902D72D71A1554BA52A3F006EF35BDC3F1...             \n",
       "\n",
       "                 ReturnDate  \n",
       "0       2019-12-27T00:00:00  \n",
       "1       2019-12-27T00:00:00  \n",
       "2       2019-12-27T00:00:00  \n",
       "3       2019-12-27T00:00:00  \n",
       "4       2019-12-27T00:00:00  \n",
       "...                     ...  \n",
       "116610  2018-05-03T00:00:00  \n",
       "116611  2018-05-03T00:00:00  \n",
       "116612  2018-05-03T00:00:00  \n",
       "116613  2019-12-20T00:00:00  \n",
       "116614  2019-12-20T00:00:00  \n",
       "\n",
       "[116615 rows x 4 columns]"
      ]
     },
     "execution_count": 14,
     "metadata": {},
     "output_type": "execute_result"
    }
   ],
   "source": [
    "tmp"
   ]
  },
  {
   "cell_type": "code",
   "execution_count": 15,
   "metadata": {},
   "outputs": [
    {
     "name": "stdout",
     "output_type": "stream",
     "text": [
      "0\n",
      "1000\n"
     ]
    }
   ],
   "source": [
    "cleaned_df = []\n",
    "cnt = 0\n",
    "hi_id_return = []\n",
    "for hi_id, group in use_time_returns.groupby('HearingInstrumentId'):\n",
    "    if(cnt%1000 == 0):\n",
    "        print(cnt)\n",
    "    cleaned_df.append(group.drop_duplicates(subset='ADLRawData_CreationTime'))\n",
    "    hi_id_return.append(hi_id)\n",
    "    cnt += 1\n",
    "    \n",
    "final_df = pd.concat(cleaned_df)    "
   ]
  },
  {
   "cell_type": "code",
   "execution_count": 16,
   "metadata": {
    "scrolled": true
   },
   "outputs": [
    {
     "data": {
      "text/html": [
       "<div>\n",
       "<style scoped>\n",
       "    .dataframe tbody tr th:only-of-type {\n",
       "        vertical-align: middle;\n",
       "    }\n",
       "\n",
       "    .dataframe tbody tr th {\n",
       "        vertical-align: top;\n",
       "    }\n",
       "\n",
       "    .dataframe thead th {\n",
       "        text-align: right;\n",
       "    }\n",
       "</style>\n",
       "<table border=\"1\" class=\"dataframe\">\n",
       "  <thead>\n",
       "    <tr style=\"text-align: right;\">\n",
       "      <th></th>\n",
       "      <th>ADLRawData_CreationTime</th>\n",
       "      <th>HearingInstrumentId</th>\n",
       "      <th>UseTimeWeekly</th>\n",
       "      <th>index</th>\n",
       "      <th>SerialNumber</th>\n",
       "      <th>RootCause</th>\n",
       "      <th>ReturnDate</th>\n",
       "    </tr>\n",
       "  </thead>\n",
       "  <tbody>\n",
       "    <tr>\n",
       "      <th>0</th>\n",
       "      <td>2018-06-17 00:00:00+00:00</td>\n",
       "      <td>001868C81AEA70B77C7DC42F81172DA3AF468C907A7890...</td>\n",
       "      <td>6.252080</td>\n",
       "      <td>68763</td>\n",
       "      <td>2BCB7B83238310A34047282458D53755D34BC17FED7D5E...</td>\n",
       "      <td></td>\n",
       "      <td>2019-06-03T00:00:00</td>\n",
       "    </tr>\n",
       "    <tr>\n",
       "      <th>6</th>\n",
       "      <td>2018-06-24 00:00:00+00:00</td>\n",
       "      <td>001868C81AEA70B77C7DC42F81172DA3AF468C907A7890...</td>\n",
       "      <td>6.252080</td>\n",
       "      <td>68763</td>\n",
       "      <td>2BCB7B83238310A34047282458D53755D34BC17FED7D5E...</td>\n",
       "      <td></td>\n",
       "      <td>2019-06-03T00:00:00</td>\n",
       "    </tr>\n",
       "    <tr>\n",
       "      <th>12</th>\n",
       "      <td>2018-07-01 00:00:00+00:00</td>\n",
       "      <td>001868C81AEA70B77C7DC42F81172DA3AF468C907A7890...</td>\n",
       "      <td>13.692774</td>\n",
       "      <td>68763</td>\n",
       "      <td>2BCB7B83238310A34047282458D53755D34BC17FED7D5E...</td>\n",
       "      <td></td>\n",
       "      <td>2019-06-03T00:00:00</td>\n",
       "    </tr>\n",
       "    <tr>\n",
       "      <th>18</th>\n",
       "      <td>2018-07-08 00:00:00+00:00</td>\n",
       "      <td>001868C81AEA70B77C7DC42F81172DA3AF468C907A7890...</td>\n",
       "      <td>9.175008</td>\n",
       "      <td>68763</td>\n",
       "      <td>2BCB7B83238310A34047282458D53755D34BC17FED7D5E...</td>\n",
       "      <td></td>\n",
       "      <td>2019-06-03T00:00:00</td>\n",
       "    </tr>\n",
       "    <tr>\n",
       "      <th>24</th>\n",
       "      <td>2018-07-15 00:00:00+00:00</td>\n",
       "      <td>001868C81AEA70B77C7DC42F81172DA3AF468C907A7890...</td>\n",
       "      <td>9.175008</td>\n",
       "      <td>68763</td>\n",
       "      <td>2BCB7B83238310A34047282458D53755D34BC17FED7D5E...</td>\n",
       "      <td></td>\n",
       "      <td>2019-06-03T00:00:00</td>\n",
       "    </tr>\n",
       "    <tr>\n",
       "      <th>...</th>\n",
       "      <td>...</td>\n",
       "      <td>...</td>\n",
       "      <td>...</td>\n",
       "      <td>...</td>\n",
       "      <td>...</td>\n",
       "      <td>...</td>\n",
       "      <td>...</td>\n",
       "    </tr>\n",
       "    <tr>\n",
       "      <th>2108100</th>\n",
       "      <td>2020-02-02 00:00:00+00:00</td>\n",
       "      <td>FFE4FDD85A665F1F9ABF280F3FFE53A43CA5887E31DFAC...</td>\n",
       "      <td>11.208608</td>\n",
       "      <td>75148</td>\n",
       "      <td>4C44499E347E2F74173E58262CF03E1C456DB998A48BBD...</td>\n",
       "      <td></td>\n",
       "      <td>2019-12-16T00:00:00</td>\n",
       "    </tr>\n",
       "    <tr>\n",
       "      <th>2108103</th>\n",
       "      <td>2020-02-09 00:00:00+00:00</td>\n",
       "      <td>FFE4FDD85A665F1F9ABF280F3FFE53A43CA5887E31DFAC...</td>\n",
       "      <td>17.455232</td>\n",
       "      <td>75148</td>\n",
       "      <td>4C44499E347E2F74173E58262CF03E1C456DB998A48BBD...</td>\n",
       "      <td></td>\n",
       "      <td>2019-12-16T00:00:00</td>\n",
       "    </tr>\n",
       "    <tr>\n",
       "      <th>2108106</th>\n",
       "      <td>2020-02-16 00:00:00+00:00</td>\n",
       "      <td>FFE4FDD85A665F1F9ABF280F3FFE53A43CA5887E31DFAC...</td>\n",
       "      <td>13.276432</td>\n",
       "      <td>75148</td>\n",
       "      <td>4C44499E347E2F74173E58262CF03E1C456DB998A48BBD...</td>\n",
       "      <td></td>\n",
       "      <td>2019-12-16T00:00:00</td>\n",
       "    </tr>\n",
       "    <tr>\n",
       "      <th>2108109</th>\n",
       "      <td>2020-02-23 00:00:00+00:00</td>\n",
       "      <td>FFE4FDD85A665F1F9ABF280F3FFE53A43CA5887E31DFAC...</td>\n",
       "      <td>13.276432</td>\n",
       "      <td>75148</td>\n",
       "      <td>4C44499E347E2F74173E58262CF03E1C456DB998A48BBD...</td>\n",
       "      <td></td>\n",
       "      <td>2019-12-16T00:00:00</td>\n",
       "    </tr>\n",
       "    <tr>\n",
       "      <th>2108112</th>\n",
       "      <td>2020-03-01 00:00:00+00:00</td>\n",
       "      <td>FFE4FDD85A665F1F9ABF280F3FFE53A43CA5887E31DFAC...</td>\n",
       "      <td>17.840326</td>\n",
       "      <td>75148</td>\n",
       "      <td>4C44499E347E2F74173E58262CF03E1C456DB998A48BBD...</td>\n",
       "      <td></td>\n",
       "      <td>2019-12-16T00:00:00</td>\n",
       "    </tr>\n",
       "  </tbody>\n",
       "</table>\n",
       "<p>164448 rows × 7 columns</p>\n",
       "</div>"
      ],
      "text/plain": [
       "          ADLRawData_CreationTime  \\\n",
       "0       2018-06-17 00:00:00+00:00   \n",
       "6       2018-06-24 00:00:00+00:00   \n",
       "12      2018-07-01 00:00:00+00:00   \n",
       "18      2018-07-08 00:00:00+00:00   \n",
       "24      2018-07-15 00:00:00+00:00   \n",
       "...                           ...   \n",
       "2108100 2020-02-02 00:00:00+00:00   \n",
       "2108103 2020-02-09 00:00:00+00:00   \n",
       "2108106 2020-02-16 00:00:00+00:00   \n",
       "2108109 2020-02-23 00:00:00+00:00   \n",
       "2108112 2020-03-01 00:00:00+00:00   \n",
       "\n",
       "                                       HearingInstrumentId  UseTimeWeekly  \\\n",
       "0        001868C81AEA70B77C7DC42F81172DA3AF468C907A7890...       6.252080   \n",
       "6        001868C81AEA70B77C7DC42F81172DA3AF468C907A7890...       6.252080   \n",
       "12       001868C81AEA70B77C7DC42F81172DA3AF468C907A7890...      13.692774   \n",
       "18       001868C81AEA70B77C7DC42F81172DA3AF468C907A7890...       9.175008   \n",
       "24       001868C81AEA70B77C7DC42F81172DA3AF468C907A7890...       9.175008   \n",
       "...                                                    ...            ...   \n",
       "2108100  FFE4FDD85A665F1F9ABF280F3FFE53A43CA5887E31DFAC...      11.208608   \n",
       "2108103  FFE4FDD85A665F1F9ABF280F3FFE53A43CA5887E31DFAC...      17.455232   \n",
       "2108106  FFE4FDD85A665F1F9ABF280F3FFE53A43CA5887E31DFAC...      13.276432   \n",
       "2108109  FFE4FDD85A665F1F9ABF280F3FFE53A43CA5887E31DFAC...      13.276432   \n",
       "2108112  FFE4FDD85A665F1F9ABF280F3FFE53A43CA5887E31DFAC...      17.840326   \n",
       "\n",
       "         index                                       SerialNumber RootCause  \\\n",
       "0        68763  2BCB7B83238310A34047282458D53755D34BC17FED7D5E...             \n",
       "6        68763  2BCB7B83238310A34047282458D53755D34BC17FED7D5E...             \n",
       "12       68763  2BCB7B83238310A34047282458D53755D34BC17FED7D5E...             \n",
       "18       68763  2BCB7B83238310A34047282458D53755D34BC17FED7D5E...             \n",
       "24       68763  2BCB7B83238310A34047282458D53755D34BC17FED7D5E...             \n",
       "...        ...                                                ...       ...   \n",
       "2108100  75148  4C44499E347E2F74173E58262CF03E1C456DB998A48BBD...             \n",
       "2108103  75148  4C44499E347E2F74173E58262CF03E1C456DB998A48BBD...             \n",
       "2108106  75148  4C44499E347E2F74173E58262CF03E1C456DB998A48BBD...             \n",
       "2108109  75148  4C44499E347E2F74173E58262CF03E1C456DB998A48BBD...             \n",
       "2108112  75148  4C44499E347E2F74173E58262CF03E1C456DB998A48BBD...             \n",
       "\n",
       "                  ReturnDate  \n",
       "0        2019-06-03T00:00:00  \n",
       "6        2019-06-03T00:00:00  \n",
       "12       2019-06-03T00:00:00  \n",
       "18       2019-06-03T00:00:00  \n",
       "24       2019-06-03T00:00:00  \n",
       "...                      ...  \n",
       "2108100  2019-12-16T00:00:00  \n",
       "2108103  2019-12-16T00:00:00  \n",
       "2108106  2019-12-16T00:00:00  \n",
       "2108109  2019-12-16T00:00:00  \n",
       "2108112  2019-12-16T00:00:00  \n",
       "\n",
       "[164448 rows x 7 columns]"
      ]
     },
     "execution_count": 16,
     "metadata": {},
     "output_type": "execute_result"
    }
   ],
   "source": [
    "final_df"
   ]
  },
  {
   "cell_type": "code",
   "execution_count": 91,
   "metadata": {},
   "outputs": [],
   "source": [
    "use_time['class'] = 0\n",
    "use_time.loc[use_time['HearingInstrumentId'].isin(hi_id_return), 'class'] = 1"
   ]
  },
  {
   "cell_type": "code",
   "execution_count": 92,
   "metadata": {},
   "outputs": [
    {
     "data": {
      "text/plain": [
       "ADLRawData_CreationTime\n",
       "2018-06-17 00:00:00+00:00    1\n",
       "2018-06-24 00:00:00+00:00    1\n",
       "2018-07-01 00:00:00+00:00    1\n",
       "2018-07-08 00:00:00+00:00    1\n",
       "2018-07-15 00:00:00+00:00    1\n",
       "                            ..\n",
       "2020-02-02 00:00:00+00:00    1\n",
       "2020-02-09 00:00:00+00:00    1\n",
       "2020-02-16 00:00:00+00:00    1\n",
       "2020-02-23 00:00:00+00:00    1\n",
       "2020-03-01 00:00:00+00:00    1\n",
       "Name: class, Length: 164448, dtype: int64"
      ]
     },
     "execution_count": 92,
     "metadata": {},
     "output_type": "execute_result"
    }
   ],
   "source": [
    "use_time[use_time['HearingInstrumentId'].isin(hi_id_return)]['class'] "
   ]
  },
  {
   "cell_type": "code",
   "execution_count": 331,
   "metadata": {
    "scrolled": true
   },
   "outputs": [
    {
     "name": "stdout",
     "output_type": "stream",
     "text": [
      "0\n",
      "1000\n",
      "2000\n",
      "3000\n",
      "4000\n",
      "5000\n",
      "6000\n",
      "7000\n",
      "8000\n",
      "9000\n",
      "10000\n",
      "11000\n",
      "12000\n",
      "13000\n",
      "14000\n",
      "15000\n",
      "16000\n",
      "17000\n",
      "18000\n",
      "19000\n",
      "20000\n",
      "21000\n",
      "22000\n",
      "23000\n",
      "24000\n",
      "25000\n",
      "26000\n",
      "27000\n",
      "28000\n",
      "28000\n",
      "29000\n",
      "30000\n",
      "31000\n",
      "32000\n",
      "33000\n",
      "34000\n",
      "35000\n",
      "36000\n",
      "36000\n",
      "37000\n",
      "38000\n",
      "39000\n"
     ]
    }
   ],
   "source": [
    "from random import randrange\n",
    "\n",
    "cnt = 0\n",
    "prereturn = []\n",
    "class_labels = []\n",
    "nrWeeks = 12\n",
    "\n",
    "for hi_id, group in use_time.groupby('HearingInstrumentId'):        \n",
    "        if(cnt%1000 == 0):\n",
    "            print(cnt)\n",
    "            \n",
    "        if (hi_id in hi_id_return):             \n",
    "            tmp = final_df[final_df['HearingInstrumentId'] == hi_id]\n",
    "            re_date = tmp['ReturnDate'].iloc[0]\n",
    "            \n",
    "            idx = group.index < re_date\n",
    "            time_series = group[idx]\n",
    "        \n",
    "            #idx = group.index.get_loc(re_date, method = 'ffill')\n",
    "            time_series = time_series['UseTimeWeekly'].iloc[-nrWeeks:].values\n",
    "        \n",
    "            if(time_series.shape[0] != nrWeeks):\n",
    "                continue\n",
    "                \n",
    "            if(np.any(time_series < 0)):\n",
    "                continue\n",
    "                \n",
    "            if(np.any(time_series > 24)):\n",
    "                continue\n",
    "                        \n",
    "            prereturn.append(time_series) \n",
    "            class_labels.append(group['class'].iloc[0])\n",
    "            \n",
    "        else:\n",
    "            length = group['UseTimeWeekly'].shape[0]            \n",
    "            rnd = randrange(length - nrWeeks)\n",
    "            time_series = group['UseTimeWeekly'].iloc[rnd:rnd+nrWeeks].values\n",
    "            \n",
    "            if(time_series.shape[0] != nrWeeks):                \n",
    "                continue\n",
    "                \n",
    "            if(np.any(time_series < 0)):              \n",
    "                continue\n",
    "                \n",
    "            if(np.any(time_series > 24)):\n",
    "                continue\n",
    "                                  \n",
    "            prereturn.append(time_series)\n",
    "            class_labels.append(group['class'].iloc[0])\n",
    "                            \n",
    "        cnt += 1\n",
    "        \n",
    "prereturn_array = np.array(prereturn)\n",
    "class_labels_array = np.array(class_labels)"
   ]
  },
  {
   "cell_type": "code",
   "execution_count": 333,
   "metadata": {},
   "outputs": [
    {
     "data": {
      "text/plain": [
       "array([12.10816728, 12.10816728, 12.10816728, 12.10816728, 12.10816728,\n",
       "       12.10816728, 12.10816728, 12.10816728, 12.10816728, 12.10816728,\n",
       "       12.10816728, 12.10816728])"
      ]
     },
     "execution_count": 333,
     "metadata": {},
     "output_type": "execute_result"
    }
   ],
   "source": [
    "time_series"
   ]
  },
  {
   "cell_type": "code",
   "execution_count": 334,
   "metadata": {},
   "outputs": [
    {
     "data": {
      "text/plain": [
       "array([[14.16008484, 14.16008484, 14.16008484, ..., 14.16008484,\n",
       "        14.16008484, 14.16008484],\n",
       "       [ 2.12231787,  2.12231787,  2.12231787, ...,  1.6056512 ,\n",
       "         3.5583536 ,  3.5583536 ],\n",
       "       [13.006112  ,  9.4321344 , 13.9183552 , ..., 12.31568   ,\n",
       "         8.72448128,  8.72448128],\n",
       "       ...,\n",
       "       [ 9.6434304 , 13.4747328 , 13.58749013, ..., 10.2005376 ,\n",
       "        10.2005376 ,  7.1640256 ],\n",
       "       [17.527648  , 15.72177813, 15.72177813, ..., 15.3196544 ,\n",
       "        12.563184  , 12.563184  ],\n",
       "       [ 6.7987712 , 13.0233728 ,  8.0791456 , ..., 14.5411328 ,\n",
       "         4.4670752 ,  4.4670752 ]])"
      ]
     },
     "execution_count": 334,
     "metadata": {},
     "output_type": "execute_result"
    }
   ],
   "source": [
    "prereturn_array[np.where(class_labels_array == 1)]"
   ]
  },
  {
   "cell_type": "code",
   "execution_count": 335,
   "metadata": {},
   "outputs": [],
   "source": [
    "\n",
    "mean_1 = prereturn_array[np.where(class_labels_array == 1)].mean(axis = 0)\n",
    "mean_2 = prereturn_array[np.where(class_labels_array == 0)].mean(axis = 0)\n",
    "\n",
    "std_1 = prereturn_array[np.where(class_labels_array == 1)].std(axis = 0)\n",
    "std_2 = prereturn_array[np.where(class_labels_array == 0)].std(axis = 0)"
   ]
  },
  {
   "cell_type": "code",
   "execution_count": 337,
   "metadata": {},
   "outputs": [
    {
     "data": {
      "text/plain": [
       "Text(0.5, 0, 'Weeks prior to return')"
      ]
     },
     "execution_count": 337,
     "metadata": {},
     "output_type": "execute_result"
    },
    {
     "data": {
      "image/png": "[encoded data removed]",
      "text/plain": [
       "<Figure size 1440x504 with 1 Axes>"
      ]
     },
     "metadata": {
      "needs_background": "light"
     },
     "output_type": "display_data"
    }
   ],
   "source": [
    "fig = plt.figure(figsize= (20,7))\n",
    "\n",
    "plt.plot(mean_1, color = 'b',linewidth = 3, linestyle = '--')\n",
    "plt.plot(mean_2, color = 'g', linewidth = 3, linestyle = '--') \n",
    "plt.fill_between(range(0,12), mean_1-std_1, mean_1 + std_1, alpha = 0.2, color = 'b')\n",
    "plt.fill_between(range(0,12), mean_2-std_2, mean_2 + std_2, alpha = 0.2, color = 'g')\n",
    "plt.xlim([0,11])\n",
    "plt.xticks([0, 1,2,3,4,5,6,7,8,9,10,11])\n",
    "ax = plt.gca()\n",
    "ax.set_xticklabels([11, 10, 9, 8, 7, 6, 5,4,3,2,1,0],fontsize = 20)\n",
    "plt.ylim([3, 20])\n",
    "ax.set_yticklabels([4,6,8,10,12,14,16,18,20], fontsize=20)\n",
    "plt.ylabel('Use time / h', fontsize = 20)\n",
    "plt.xlabel('Weeks prior to return', fontsize = 20)\n"
   ]
  },
  {
   "cell_type": "code",
   "execution_count": 338,
   "metadata": {},
   "outputs": [
    {
     "data": {
      "text/plain": [
       "array([ 3.82882712, 12.85891132, 14.1807392 , ...,  7.91766453,\n",
       "       14.78342053, 12.10816728])"
      ]
     },
     "execution_count": 338,
     "metadata": {},
     "output_type": "execute_result"
    }
   ],
   "source": [
    "#now plot histograms\n",
    "prereturn_array[np.where(class_labels_array == 1)].mean(axis = 1)\n",
    "prereturn_array[np.where(class_labels_array == 0)].mean(axis = 1)"
   ]
  },
  {
   "cell_type": "code",
   "execution_count": 339,
   "metadata": {},
   "outputs": [],
   "source": [
    "input_cnn = prereturn_array.reshape(prereturn_array.shape[0],\n",
    "                                    prereturn_array.shape[1],\n",
    "                                    1)"
   ]
  },
  {
   "cell_type": "code",
   "execution_count": 342,
   "metadata": {},
   "outputs": [
    {
     "data": {
      "text/plain": [
       "(39706, 12, 1)"
      ]
     },
     "execution_count": 342,
     "metadata": {},
     "output_type": "execute_result"
    }
   ],
   "source": [
    "input_cnn.shape"
   ]
  },
  {
   "cell_type": "code",
   "execution_count": 343,
   "metadata": {},
   "outputs": [
    {
     "data": {
      "text/plain": [
       "39706"
      ]
     },
     "execution_count": 343,
     "metadata": {},
     "output_type": "execute_result"
    }
   ],
   "source": [
    "class_labels_array.size"
   ]
  },
  {
   "cell_type": "code",
   "execution_count": 344,
   "metadata": {},
   "outputs": [],
   "source": [
    "#saving input_cnn as pickle \n",
    "with open(base_path + 'CNN_input.pkl', 'wb') as f:\n",
    "   pickle.dump(input_cnn, f)\n",
    "\n",
    "with open(base_path + 'CNN_classes.pkl', 'wb') as f:\n",
    "   pickle.dump(class_labels_array, f)"
   ]
  },
  {
   "cell_type": "code",
   "execution_count": null,
   "metadata": {},
   "outputs": [],
   "source": []
  }
 ],
 "metadata": {
  "kernelspec": {
   "display_name": "Python 3",
   "language": "python",
   "name": "python3"
  },
  "language_info": {
   "codemirror_mode": {
    "name": "ipython",
    "version": 3
   },
   "file_extension": ".py",
   "mimetype": "text/x-python",
   "name": "python",
   "nbconvert_exporter": "python",
   "pygments_lexer": "ipython3",
   "version": "3.7.3"
  }
 },
 "nbformat": 4,
 "nbformat_minor": 4
}
