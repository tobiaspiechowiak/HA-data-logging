{
 "cells": [
  {
   "cell_type": "code",
   "execution_count": 37,
   "metadata": {},
   "outputs": [],
   "source": [
    "import sys\n",
    "base_path = 'c:/Users/tpiechowiak/OneDrive - GN Store Nord/GNOS data/'\n",
    "sys.path.append('c:/Users/tpiechowiak/Documents/BEAR/GNOS/sws_machine_learning')"
   ]
  },
  {
   "cell_type": "code",
   "execution_count": 38,
   "metadata": {},
   "outputs": [
    {
     "ename": "ModuleNotFoundError",
     "evalue": "No module named 'libs.ADL'",
     "output_type": "error",
     "traceback": [
      "\u001b[1;31m---------------------------------------------------------------------------\u001b[0m",
      "\u001b[1;31mModuleNotFoundError\u001b[0m                       Traceback (most recent call last)",
      "\u001b[1;32m<ipython-input-38-85bb6052ad5e>\u001b[0m in \u001b[0;36m<module>\u001b[1;34m\u001b[0m\n\u001b[0;32m      2\u001b[0m \u001b[1;32mimport\u001b[0m \u001b[0mnumpy\u001b[0m \u001b[1;32mas\u001b[0m \u001b[0mnp\u001b[0m\u001b[1;33m\u001b[0m\u001b[1;33m\u001b[0m\u001b[0m\n\u001b[0;32m      3\u001b[0m \u001b[1;32mimport\u001b[0m \u001b[0mpickle\u001b[0m\u001b[1;33m\u001b[0m\u001b[1;33m\u001b[0m\u001b[0m\n\u001b[1;32m----> 4\u001b[1;33m \u001b[1;32mfrom\u001b[0m \u001b[0mlibs\u001b[0m\u001b[1;33m.\u001b[0m\u001b[0mADL\u001b[0m\u001b[1;33m.\u001b[0m\u001b[0mlibADL\u001b[0m \u001b[1;32mimport\u001b[0m \u001b[0madls\u001b[0m\u001b[1;33m\u001b[0m\u001b[1;33m\u001b[0m\u001b[0m\n\u001b[0m",
      "\u001b[1;31mModuleNotFoundError\u001b[0m: No module named 'libs.ADL'"
     ]
    }
   ],
   "source": [
    "import pandas as pd\n",
    "import numpy as np\n",
    "import pickle\n",
    "from libs.ADL.libADL import adls"
   ]
  },
  {
   "cell_type": "code",
   "execution_count": 9,
   "metadata": {},
   "outputs": [
    {
     "name": "stdout",
     "output_type": "stream",
     "text": [
      "Read RFT data from pickle file\n"
     ]
    }
   ],
   "source": [
    "with open(base_path + \"sub_ADL.pkl\", \"rb\") as input_file:\n",
    "    adl_sub = pickle.load(input_file)\n",
    "print(\"Read RFT data from pickle file\")"
   ]
  },
  {
   "cell_type": "code",
   "execution_count": 15,
   "metadata": {},
   "outputs": [
    {
     "data": {
      "text/plain": [
       "Index(['ADLRawData_ADLRawDataId', 'ADLRawData_HearingInstrumentId',\n",
       "       'ADLRawData_BleAddress', 'ADLRawData_Side',\n",
       "       'ADLRawData_FittingSessionId', 'ADLRawData_MobileDeviceId',\n",
       "       'ADLRawData_CreationTime', 'ADLPackageData_FittedPrograms',\n",
       "       'ADLPackageData_ProgramEnvironmentIds_0',\n",
       "       'ADLPackageData_ProgramEnvironmentIds_1',\n",
       "       'ADLPackageData_ProgramEnvironmentIds_2',\n",
       "       'ADLPackageData_ProgramEnvironmentIds_3',\n",
       "       'ADLPackageData_ProgramEnvironmentIds_4',\n",
       "       'ADLPackageData_ProgramEnvironmentIds_5',\n",
       "       'ADLPackageData_ProgramEnvironmentIds_6',\n",
       "       'ADLProperties_HistogramOnUseTimeFromFullChargeToLowBat_0',\n",
       "       'ADLProperties_HistogramOnUseTimeFromFullChargeToLowBat_1',\n",
       "       'ADLProperties_HistogramOnUseTimeFromFullChargeToLowBat_2',\n",
       "       'ADLProperties_HistogramOnUseTimeFromFullChargeToLowBat_3',\n",
       "       'ADLProperties_HistogramOnUseTimeFromFullChargeToLowBat_4',\n",
       "       'ADLProperties_HistogramOnUseTimeFromFullChargeToLowBat_5',\n",
       "       'ADLProperties_HistogramOnUseTimeFromFullChargeToLowBat_6',\n",
       "       'ADLProperties_HistogramOnUseTimeFromFullChargeToLowBat_7',\n",
       "       'ADLProperties_HistogramOnUseTimeFromFullChargeToLowBat_8',\n",
       "       'ADLProperties_HistogramOnUseTimeFromFullChargeToLowBat_9',\n",
       "       'ADLProperties_HistogramOnUseTimeFromFullChargeToLowBat_10',\n",
       "       'ADLProperties_HistogramOnUseTimeFromFullChargeToLowBat_11',\n",
       "       'ADLProperties_UseTimeInPhoneStreaming',\n",
       "       'ADLProperties_TotalUseTimeInCharger',\n",
       "       'ADLProperties_HistogramOnChargeWhenEnteringCharger_0',\n",
       "       'ADLProperties_HistogramOnChargeWhenEnteringCharger_1',\n",
       "       'ADLProperties_HistogramOnChargeWhenEnteringCharger_2',\n",
       "       'ADLProperties_HistogramOnChargeWhenEnteringCharger_3',\n",
       "       'ADLProperties_HistogramOnChargeWhenEnteringCharger_4',\n",
       "       'ADLProperties_HistogramOnChargeWhenEnteringCharger_5',\n",
       "       'ADLProperties_HistogramOnChargeWhenEnteringCharger_6',\n",
       "       'ADLProperties_HistogramOnChargeWhenEnteringCharger_7',\n",
       "       'ADLProperties_HistogramOnChargeWhenEnteringCharger_8',\n",
       "       'ADLProperties_HistogramOnChargeWhenEnteringCharger_9',\n",
       "       'ADLProperties_HistogramOnChargeWhenEnteringCharger_10',\n",
       "       'ADLProperties_HistogramOnChargeWhenExitingCharger_0',\n",
       "       'ADLProperties_HistogramOnChargeWhenExitingCharger_1',\n",
       "       'ADLProperties_HistogramOnChargeWhenExitingCharger_2',\n",
       "       'ADLProperties_HistogramOnChargeWhenExitingCharger_3',\n",
       "       'ADLProperties_HistogramOnChargeWhenExitingCharger_4',\n",
       "       'ADLProperties_HistogramOnChargeWhenExitingCharger_5',\n",
       "       'ADLProperties_HistogramOnChargeWhenExitingCharger_6',\n",
       "       'ADLProperties_HistogramOnChargeWhenExitingCharger_7',\n",
       "       'ADLProperties_HistogramOnChargeWhenExitingCharger_8',\n",
       "       'ADLProperties_HistogramOnChargeWhenExitingCharger_9',\n",
       "       'ADLProperties_HistogramOnChargeWhenExitingCharger_10',\n",
       "       'ADLProperties_NumberOfPowerDowns',\n",
       "       'ADLProperties_HistogramOnChargingTime_0',\n",
       "       'ADLProperties_HistogramOnChargingTime_1',\n",
       "       'ADLProperties_HistogramOnChargingTime_2',\n",
       "       'ADLProperties_HistogramOnChargingTime_3',\n",
       "       'ADLProperties_HistogramOnChargingTime_4',\n",
       "       'ADLProperties_HistogramOnChargingTime_5',\n",
       "       'ADLProperties_HistogramOnChargingTime_6',\n",
       "       'ADLProperties_HistogramOnChargingTime_7',\n",
       "       'ADLProperties_HistogramOnChargingTime_8',\n",
       "       'ADLProperties_HistogramOnChargingTime_9',\n",
       "       'ADLProperties_HistogramOnIdleTimeInCharger_0',\n",
       "       'ADLProperties_HistogramOnIdleTimeInCharger_1',\n",
       "       'ADLProperties_HistogramOnIdleTimeInCharger_2',\n",
       "       'ADLProperties_HistogramOnIdleTimeInCharger_3',\n",
       "       'ADLProperties_HistogramOnIdleTimeInCharger_4',\n",
       "       'ADLProperties_HistogramOnIdleTimeInCharger_5',\n",
       "       'ADLProperties_HistogramOnIdleTimeInCharger_6',\n",
       "       'ADLProperties_HistogramOnIdleTimeInCharger_7',\n",
       "       'ADLProperties_TotalUseTime', 'ADLProperties_UseTimePerPreset_0',\n",
       "       'ADLProperties_UseTimePerPreset_1', 'ADLProperties_UseTimePerPreset_2',\n",
       "       'ADLProperties_UseTimePerPreset_3', 'ADLProperties_UseTimePerPreset_4',\n",
       "       'ADLProperties_UseTimePerPreset_5', 'ADLProperties_UseTimePerPreset_6',\n",
       "       'ADLProperties_UseTimePerPreset_7', 'ADLProperties_HistogramOnTime_0',\n",
       "       'ADLProperties_HistogramOnTime_1', 'ADLProperties_HistogramOnTime_2',\n",
       "       'ADLProperties_HistogramOnTime_3', 'ADLProperties_HistogramOnTime_4',\n",
       "       'ADLProperties_HistogramOnTime_5', 'ADLProperties_NumberOfDeviceBoots',\n",
       "       'ADLProperties_NumberOfPresetSwitches',\n",
       "       'ADLProperties_HistogramOnInputPowerPreset1_0',\n",
       "       'ADLProperties_HistogramOnInputPowerPreset1_1',\n",
       "       'ADLProperties_HistogramOnInputPowerPreset1_2',\n",
       "       'ADLProperties_HistogramOnInputPowerPreset1_3',\n",
       "       'ADLProperties_HistogramOnInputPowerPreset1_4',\n",
       "       'ADLProperties_HistogramOnInputPowerPreset1_5',\n",
       "       'ADLProperties_HistogramOnInputPowerPreset1_6',\n",
       "       'ADLProperties_HistogramOnClassifiedEnvironmentPerPreset_0_0',\n",
       "       'ADLProperties_HistogramOnClassifiedEnvironmentPerPreset_0_1',\n",
       "       'ADLProperties_HistogramOnClassifiedEnvironmentPerPreset_0_2',\n",
       "       'ADLProperties_HistogramOnClassifiedEnvironmentPerPreset_0_3',\n",
       "       'ADLProperties_HistogramOnClassifiedEnvironmentPerPreset_0_4',\n",
       "       'ADLProperties_HistogramOnClassifiedEnvironmentPerPreset_0_5'],\n",
       "      dtype='object')"
      ]
     },
     "execution_count": 15,
     "metadata": {},
     "output_type": "execute_result"
    }
   ],
   "source": [
    "adl_sub.keys()[:100]"
   ]
  },
  {
   "cell_type": "code",
   "execution_count": 5,
   "metadata": {},
   "outputs": [
    {
     "name": "stdout",
     "output_type": "stream",
     "text": [
      "Read resampled data from pickle file\n"
     ]
    }
   ],
   "source": [
    "#resample use time to weekly points\n",
    "hi_items = list(adl_sub.adl_by_hi.groups)\n",
    "resampled_time_series={}\n",
    "Q2 = []\n",
    "hi_use_time_low = []\n",
    "cnt = 0\n",
    "appended_df = []\n",
    "for hi in hi_items:\n",
    "    cnt = cnt + 1\n",
    "    if (cnt % 1000 == 0):\n",
    "        print(\"Searched \" + str(cnt) + \" ADLs\")\n",
    "    time_series = sub_adls.adl_by_hi.get_group(hi)\n",
    "    time_series = time_series.set_index(pd.to_datetime(time_series['ADLRawData_CreationTime']))\n",
    "    time_series = time_series.loc[~time_series.index.duplicated(keep='last')]\n",
    "    time_series = time_series.sort_index()\n",
    "\n",
    "    #compute inter-time intervals\n",
    "    diff_time_series[hi] = time_series.index.to_series().diff().dt.total_seconds().div(60*60*24, \\\n",
    "                                                                          fill_value=0)\n",
    "    \n",
    "    r_time_series = time_series['ADLProperties_TotalUseTime'].diff().resample('W').sum().\\\n",
    "    interpolate(method = 'linear') \n",
    "    \n",
    "    bin = r_time_series==0\n",
    "    if bin.iloc[-1]==True:\n",
    "        continue\n",
    "    for i in np.arange(r_time_series.shape[0]):\n",
    "        start_row = i\n",
    "        replace_rows = []\n",
    "        n = 0\n",
    "        #print(\"Start row : \" + str(start_row))\n",
    "        while (bin[start_row] == True):\n",
    "            replace_rows.append(start_row)\n",
    "            start_row = start_row + 1\n",
    "            n = n + 1\n",
    "            #print(\"Replace rows : \" + str(replace_rows))\n",
    "        if len(replace_rows) > 0:\n",
    "            bin.iloc[replace_rows] = False            \n",
    "            replace_value = r_time_series.iloc[start_row] / (n+1)\n",
    "            r_time_series.iloc[replace_rows] = replace_value\n",
    "            r_time_series.iloc[start_row] = replace_value\n",
    "\n",
    "    resampled_time_series[hi] = r_time_series / 7\n",
    "    df1 = pd.DataFrame({'ADLRawData_HearingInstrumentId':hi,'UseTimeWeekly':resampled_time_series[hi],\\\n",
    "                       'InterTimeInterval':diff_time_series[hi]},index=r_time_series.index)\n",
    "    \n",
    "    appended_df.append(df1)\n",
    "    \n",
    "df_use_time_weekly = pd.concat(appended_df)   "
   ]
  },
  {
   "cell_type": "code",
   "execution_count": 7,
   "metadata": {},
   "outputs": [
    {
     "data": {
      "text/plain": [
       "Index(['ADLProperties_TotalUseTime', 'ADLProperties_UseTimeInPhoneStreaming',\n",
       "       'ADLProperties_TotalUseTimeInCharger',\n",
       "       'ADLProperties_Bass3StateHistogram_0',\n",
       "       'ADLProperties_Bass3StateHistogram_1',\n",
       "       'ADLProperties_Bass3StateHistogram_2',\n",
       "       'ADLProperties_Bass3StateHistogram_3',\n",
       "       'ADLProperties_HistogramOnClassifiedEnvironmentPerPreset_0_0',\n",
       "       'ADLProperties_HistogramOnClassifiedEnvironmentPerPreset_0_1',\n",
       "       'ADLProperties_HistogramOnClassifiedEnvironmentPerPreset_0_2',\n",
       "       'ADLProperties_HistogramOnClassifiedEnvironmentPerPreset_0_3',\n",
       "       'ADLProperties_HistogramOnClassifiedEnvironmentPerPreset_0_4',\n",
       "       'ADLProperties_HistogramOnClassifiedEnvironmentPerPreset_0_5',\n",
       "       'ADLProperties_HistogramOnClassifiedEnvironmentPerPreset_0_6',\n",
       "       'ADLProperties_HistogramOnClassifiedEnvironmentPerPreset_1_0',\n",
       "       'ADLProperties_HistogramOnClassifiedEnvironmentPerPreset_1_1',\n",
       "       'ADLProperties_HistogramOnClassifiedEnvironmentPerPreset_1_2',\n",
       "       'ADLProperties_HistogramOnClassifiedEnvironmentPerPreset_1_3',\n",
       "       'ADLProperties_HistogramOnClassifiedEnvironmentPerPreset_1_4',\n",
       "       'ADLProperties_HistogramOnClassifiedEnvironmentPerPreset_1_5',\n",
       "       'ADLProperties_HistogramOnClassifiedEnvironmentPerPreset_1_6',\n",
       "       'ADLProperties_HistogramOnClassifiedEnvironmentPerPreset_2_0',\n",
       "       'ADLProperties_HistogramOnClassifiedEnvironmentPerPreset_2_1',\n",
       "       'ADLProperties_HistogramOnClassifiedEnvironmentPerPreset_2_2',\n",
       "       'ADLProperties_HistogramOnClassifiedEnvironmentPerPreset_2_3',\n",
       "       'ADLProperties_HistogramOnClassifiedEnvironmentPerPreset_2_4',\n",
       "       'ADLProperties_HistogramOnClassifiedEnvironmentPerPreset_2_5',\n",
       "       'ADLProperties_HistogramOnClassifiedEnvironmentPerPreset_2_6',\n",
       "       'ADLProperties_HistogramOnClassifiedEnvironmentPerPreset_3_0',\n",
       "       'ADLProperties_HistogramOnClassifiedEnvironmentPerPreset_3_1',\n",
       "       'ADLProperties_HistogramOnClassifiedEnvironmentPerPreset_3_2',\n",
       "       'ADLProperties_HistogramOnClassifiedEnvironmentPerPreset_3_3',\n",
       "       'ADLProperties_HistogramOnClassifiedEnvironmentPerPreset_3_4',\n",
       "       'ADLProperties_HistogramOnClassifiedEnvironmentPerPreset_3_5',\n",
       "       'ADLProperties_HistogramOnClassifiedEnvironmentPerPreset_3_6',\n",
       "       'ADLProperties_HistogramOnInputPowerPreset1_0',\n",
       "       'ADLProperties_HistogramOnInputPowerPreset1_1',\n",
       "       'ADLProperties_HistogramOnInputPowerPreset1_2',\n",
       "       'ADLProperties_HistogramOnInputPowerPreset1_3',\n",
       "       'ADLProperties_HistogramOnInputPowerPreset1_4',\n",
       "       'ADLProperties_HistogramOnInputPowerPreset1_5',\n",
       "       'ADLProperties_UseTimePerPreset_0', 'ADLProperties_UseTimePerPreset_1',\n",
       "       'ADLProperties_UseTimePerPreset_2', 'ADLProperties_UseTimePerPreset_3',\n",
       "       'ADLProperties_UseTimePerPreset_4', 'ADLProperties_UseTimePerPreset_5',\n",
       "       'ADLProperties_UseTimePerPreset_6', 'ADLProperties_UseTimePerPreset_7',\n",
       "       'ADLRawData_HearingInstrumentId'],\n",
       "      dtype='object')"
      ]
     },
     "execution_count": 7,
     "metadata": {},
     "output_type": "execute_result"
    }
   ],
   "source": [
    "rsmp.keys()"
   ]
  },
  {
   "cell_type": "code",
   "execution_count": null,
   "metadata": {},
   "outputs": [],
   "source": []
  }
 ],
 "metadata": {
  "kernelspec": {
   "display_name": "Python 3",
   "language": "python",
   "name": "python3"
  },
  "language_info": {
   "codemirror_mode": {
    "name": "ipython",
    "version": 3
   },
   "file_extension": ".py",
   "mimetype": "text/x-python",
   "name": "python",
   "nbconvert_exporter": "python",
   "pygments_lexer": "ipython3",
   "version": "3.7.3"
  }
 },
 "nbformat": 4,
 "nbformat_minor": 2
}
