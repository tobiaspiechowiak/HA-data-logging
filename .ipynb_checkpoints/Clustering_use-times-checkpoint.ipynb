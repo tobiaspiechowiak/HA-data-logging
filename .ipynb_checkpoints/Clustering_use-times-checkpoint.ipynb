{
 "cells": [
  {
   "cell_type": "code",
   "execution_count": 72,
   "metadata": {},
   "outputs": [],
   "source": [
    "#setting system path\n",
    "import sys\n",
    "sys.path.append('c:/Users/tpiechowiak/Documents/BEAR/GNOS/sws_machine_learning')\n",
    "base_path = 'c:/Users/tpiechowiak/Documents/BEAR/GNOS/data/'"
   ]
  },
  {
   "cell_type": "code",
   "execution_count": 73,
   "metadata": {},
   "outputs": [],
   "source": [
    "#loading some stuff \n",
    "import matplotlib.pyplot as plt\n",
    "import matplotlib\n",
    "import numpy as np\n",
    "import pandas as pd\n",
    "import pickle\n",
    "import datetime\n"
   ]
  },
  {
   "cell_type": "code",
   "execution_count": 77,
   "metadata": {},
   "outputs": [
    {
     "name": "stdout",
     "output_type": "stream",
     "text": [
      "Read ADL use-time from pickle file\n",
      "Read hi ids low usage\n"
     ]
    }
   ],
   "source": [
    "#now loading the different pickle files containing the ADL files for the different use-time categories\n",
    "with open(base_path + \"UseTime_resampled.pkl\", \"rb\") as input_file:\n",
    "    ADL_use_time = pickle.load(input_file)\n",
    "print(\"Read ADL use-time from pickle file\")\n",
    "\n",
    "with open(base_path + 'hi_id_low_usage_subjects.pkl','rb') as input_file:\n",
    "    hi_id_low_use = pickle.load(input_file)\n",
    "print('Read hi ids low usage')\n"
   ]
  },
  {
   "cell_type": "code",
   "execution_count": 78,
   "metadata": {},
   "outputs": [
    {
     "data": {
      "text/plain": [
       "5820"
      ]
     },
     "execution_count": 78,
     "metadata": {},
     "output_type": "execute_result"
    }
   ],
   "source": [
    "len(hi_id_low_use)"
   ]
  },
  {
   "cell_type": "code",
   "execution_count": 79,
   "metadata": {},
   "outputs": [],
   "source": [
    "#number of weeks between dates\n",
    "def diff_time(start, end):\n",
    "    x = pd.to_datetime(end) - pd.to_datetime(start)\n",
    "    return int(x / np.timedelta64(1, 'W'))"
   ]
  },
  {
   "cell_type": "code",
   "execution_count": 80,
   "metadata": {},
   "outputs": [],
   "source": [
    "#make subgroup for low-usage candidates\n",
    "low_usage = ADL_use_time[ADL_use_time['ADLRawData_HearingInstrumentId'].isin(hi_low_use)]"
   ]
  },
  {
   "cell_type": "code",
   "execution_count": 81,
   "metadata": {},
   "outputs": [
    {
     "name": "stdout",
     "output_type": "stream",
     "text": [
      "HI =  1000\n",
      "HI =  2000\n",
      "HI =  3000\n",
      "HI =  4000\n",
      "HI =  5000\n"
     ]
    }
   ],
   "source": [
    "#now try to cluster low usage group with KMeans for H1, H2 2019\n",
    "#first need to create an array for KMeans input \n",
    "#we cluster first for all HI\n",
    "use_time_low = []\n",
    "cnt = 0\n",
    "\n",
    "cut_off = diff_time('2019-01-01','2019-12-31')\n",
    "\n",
    "for hi_id, group in low_usage.groupby('ADLRawData_HearingInstrumentId'):\n",
    "    cnt = cnt + 1\n",
    "    if (cnt%1000 == 0):\n",
    "        print('HI = ',cnt)\n",
    "    tmp = group['UseTimeWeekly'].loc['2019-01-01':'2019-12-31'].values[0:cut_off]\n",
    "    if(tmp.shape[0] != cut_off):\n",
    "        continue\n",
    "    if (np.any(tmp < 0)):\n",
    "        continue\n",
    "        \n",
    "    use_time_low.append(tmp)\n",
    "        \n",
    "\n",
    "use_time_low_array= np.array(use_time_low)"
   ]
  },
  {
   "cell_type": "code",
   "execution_count": 107,
   "metadata": {},
   "outputs": [
    {
     "data": {
      "text/plain": [
       "Index(['ADLRawData_HearingInstrumentId', 'UseTimeWeekly', 'InterTimeInterval'], dtype='object')"
      ]
     },
     "execution_count": 107,
     "metadata": {},
     "output_type": "execute_result"
    }
   ],
   "source": [
    "low_usage.keys()"
   ]
  },
  {
   "cell_type": "code",
   "execution_count": 82,
   "metadata": {},
   "outputs": [],
   "source": [
    "#import sklearn packages for clustering and pre-processing\n",
    "from sklearn.cluster import KMeans\n"
   ]
  },
  {
   "cell_type": "code",
   "execution_count": 83,
   "metadata": {},
   "outputs": [],
   "source": [
    "def seek_cluster_number(X, max_clust):\n",
    "    SSE = []\n",
    "    km = []\n",
    "    cnt = 0\n",
    "    for idx in range(1, max_clust):\n",
    "        cnt = cnt + 1        \n",
    "        print('Iteration = ',cnt)\n",
    "        tmp = KMeans(n_clusters = idx, \\\n",
    "                    init = 'k-means++',\\\n",
    "                    n_init = 10,\\\n",
    "                    max_iter = 100,\\\n",
    "                    random_state = 0)\n",
    "        tmp.fit(X)\n",
    "        SSE.append(tmp.inertia_)\n",
    "        km.append(tmp)\n",
    "    plt.plot(range(1,max_clust), SSE, marker='o')\n",
    "    plt.xlabel('Number of clusters')\n",
    "    plt.ylabel('SSE')\n",
    "    plt.show()\n",
    "\n",
    "    return km"
   ]
  },
  {
   "cell_type": "code",
   "execution_count": 96,
   "metadata": {},
   "outputs": [
    {
     "name": "stdout",
     "output_type": "stream",
     "text": [
      "Iteration =  1\n",
      "Iteration =  2\n",
      "Iteration =  3\n",
      "Iteration =  4\n",
      "Iteration =  5\n",
      "Iteration =  6\n",
      "Iteration =  7\n",
      "Iteration =  8\n",
      "Iteration =  9\n"
     ]
    },
    {
     "data": {
      "image/png": "[encoded data removed]",
      "text/plain": [
       "<Figure size 432x288 with 1 Axes>"
      ]
     },
     "metadata": {
      "needs_background": "light"
     },
     "output_type": "display_data"
    }
   ],
   "source": [
    "km = seek_cluster_number(use_time_low_array,10)"
   ]
  },
  {
   "cell_type": "code",
   "execution_count": 103,
   "metadata": {},
   "outputs": [
    {
     "data": {
      "text/plain": [
       "52"
      ]
     },
     "execution_count": 103,
     "metadata": {},
     "output_type": "execute_result"
    }
   ],
   "source": [
    "#we try 6 clusters\n",
    "km[1].cluster_centers_.shape[1]\n"
   ]
  },
  {
   "cell_type": "code",
   "execution_count": 99,
   "metadata": {
    "scrolled": true
   },
   "outputs": [
    {
     "data": {
      "image/png": "[encoded data removed]",
      "text/plain": [
       "<Figure size 648x432 with 1 Axes>"
      ]
     },
     "metadata": {
      "needs_background": "light"
     },
     "output_type": "display_data"
    }
   ],
   "source": [
    "fig = plt.figure(figsize = (9,6))\n",
    "\n",
    "a = pd.date_range(start= '2019-01-01',end = '2019-12-31', freq= '1W')\n",
    "\n",
    "plt.plot(a,km[1].cluster_centers_[0],'bo-',\\\n",
    "         a,km[1].cluster_centers_[1],'go-')\n",
    "\n",
    "axes = fig.gca()\n",
    "axes.set_ylim([0, 5])\n",
    "plt.xlabel('Time',fontsize = 16)\n",
    "plt.ylabel('Use time / d', fontsize = 16)\n",
    "axes.tick_params(labelsize = 13)\n"
   ]
  },
  {
   "cell_type": "code",
   "execution_count": 101,
   "metadata": {},
   "outputs": [
    {
     "data": {
      "text/plain": [
       "3890"
      ]
     },
     "execution_count": 101,
     "metadata": {},
     "output_type": "execute_result"
    }
   ],
   "source": [
    "km[2].labels_.shape[0]"
   ]
  },
  {
   "cell_type": "code",
   "execution_count": 108,
   "metadata": {},
   "outputs": [
    {
     "name": "stdout",
     "output_type": "stream",
     "text": [
      "1000\n",
      "2000\n",
      "3000\n"
     ]
    }
   ],
   "source": [
    "#filter those with lowest use time cluster\n",
    "cnt = 0\n",
    "hi_cluster_0 = []\n",
    "hi_cluster_1 = []\n",
    "\n",
    "for idx in range(1,len(use_time_low_array)):\n",
    "    if (idx%1000 == 0):\n",
    "        print(idx)    \n",
    "    if (km[1].labels_[idx] == 1):        \n",
    "        hi_cluster_1.append(hi_low_use[idx])\n",
    "    else:\n",
    "        hi_cluster_0.append(hi_low_use[idx])\n"
   ]
  },
  {
   "cell_type": "code",
   "execution_count": 113,
   "metadata": {},
   "outputs": [
    {
     "data": {
      "text/plain": [
       "1920"
      ]
     },
     "execution_count": 113,
     "metadata": {},
     "output_type": "execute_result"
    }
   ],
   "source": [
    "len(hi_cluster_1)\n"
   ]
  },
  {
   "cell_type": "code",
   "execution_count": 112,
   "metadata": {},
   "outputs": [],
   "source": [
    "#saving list as pickle \n",
    "with open('hi_id_low_cluster.pkl', 'wb') as f:\n",
    "   pickle.dump(hi_cluster_0, f)"
   ]
  },
  {
   "cell_type": "code",
   "execution_count": null,
   "metadata": {},
   "outputs": [],
   "source": []
  }
 ],
 "metadata": {
  "kernelspec": {
   "display_name": "Python 3",
   "language": "python",
   "name": "python3"
  },
  "language_info": {
   "codemirror_mode": {
    "name": "ipython",
    "version": 3
   },
   "file_extension": ".py",
   "mimetype": "text/x-python",
   "name": "python",
   "nbconvert_exporter": "python",
   "pygments_lexer": "ipython3",
   "version": "3.7.3"
  }
 },
 "nbformat": 4,
 "nbformat_minor": 4
}
