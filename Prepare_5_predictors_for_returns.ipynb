{
 "cells": [
  {
   "cell_type": "code",
   "execution_count": 4,
   "metadata": {},
   "outputs": [],
   "source": [
    "#setting system path\n",
    "import sys\n",
    "sys.path.append('/home/tobias/data/libs')\n",
    "base_path = '/home/tobias/data/'"
   ]
  },
  {
   "cell_type": "code",
   "execution_count": 5,
   "metadata": {},
   "outputs": [],
   "source": [
    "#loading some stuff \n",
    "import matplotlib.pyplot as plt\n",
    "import numpy as np\n",
    "import pickle \n",
    "import datetime\n"
   ]
  },
  {
   "cell_type": "code",
   "execution_count": 6,
   "metadata": {},
   "outputs": [],
   "source": [
    "import pandas as pd"
   ]
  },
  {
   "cell_type": "code",
   "execution_count": 7,
   "metadata": {
    "tags": []
   },
   "outputs": [
    {
     "output_type": "stream",
     "name": "stdout",
     "text": [
      "Read return data from pickle file\n",
      "Read RFT from pickle file\n",
      "Read use-time from pickle file\n"
     ]
    }
   ],
   "source": [
    "#now loading all the necessary data files\n",
    "#now loading the pickle file containing the audiogram data\n",
    "with open(base_path + \"AllReturns.pkl\", \"rb\") as input_file:\n",
    "    RET = pickle.load(input_file)\n",
    "print(\"Read return data from pickle file\")\n",
    "\n",
    "with open(base_path + \"LatestRFTSetting.pkl\", \"rb\") as input_file:\n",
    "    RFT = pickle.load(input_file)\n",
    "print(\"Read RFT from pickle file\")\n",
    "\n",
    "with open(base_path + \"sub_ADL.pkl\", \"rb\") as input_file:\n",
    "    sub_ADL = pickle.load(input_file)\n",
    "print(\"Read use-time from pickle file\")\n"
   ]
  },
  {
   "cell_type": "code",
   "execution_count": 8,
   "metadata": {},
   "outputs": [],
   "source": [
    "RFT_Setting = RFT[['SerialNumber','HearingInstrumentId']]\n",
    "RET_basis = RET[['SerialNumber','RootCause', 'ReturnDate']]"
   ]
  },
  {
   "cell_type": "code",
   "execution_count": 9,
   "metadata": {},
   "outputs": [],
   "source": [
    "sub_ADL.rename(columns={'ADLRawData_HearingInstrumentId':'HearingInstrumentId'}, inplace = True)"
   ]
  },
  {
   "cell_type": "code",
   "execution_count": 10,
   "metadata": {},
   "outputs": [],
   "source": [
    "#now try to merge the dataframes \n",
    "tmp = RFT_Setting.merge(RET_basis,on='SerialNumber',how='inner')\n",
    "use_time_returns = pd.merge(sub_ADL,tmp.reset_index(), on ='HearingInstrumentId', how='inner')"
   ]
  },
  {
   "cell_type": "code",
   "execution_count": 11,
   "metadata": {
    "tags": []
   },
   "outputs": [
    {
     "output_type": "stream",
     "name": "stdout",
     "text": [
      "0\n",
      "1000\n"
     ]
    }
   ],
   "source": [
    "cleaned_df = []\n",
    "cnt = 0\n",
    "hi_id_return = []\n",
    "for hi_id, group in use_time_returns.groupby('HearingInstrumentId'):\n",
    "    if(cnt%1000 == 0):\n",
    "        print(cnt)\n",
    "    cleaned_df.append(group.drop_duplicates(subset='ADLRawData_CreationTime'))\n",
    "    hi_id_return.append(hi_id)\n",
    "    cnt += 1\n",
    "    \n",
    "cleaned_df = pd.concat(cleaned_df)    "
   ]
  },
  {
   "cell_type": "code",
   "execution_count": 12,
   "metadata": {},
   "outputs": [],
   "source": [
    "cleaned_df.set_index(cleaned_df['ADLRawData_CreationTime'],inplace=True)"
   ]
  },
  {
   "cell_type": "code",
   "execution_count": 13,
   "metadata": {},
   "outputs": [],
   "source": [
    "sub_ADL['class'] = 0\n",
    "sub_ADL.loc[sub_ADL['HearingInstrumentId'].isin(hi_id_return), 'class'] = 1"
   ]
  },
  {
   "cell_type": "code",
   "execution_count": 14,
   "metadata": {
    "tags": []
   },
   "outputs": [
    {
     "output_type": "stream",
     "name": "stdout",
     "text": [
      "0\n",
      "1000\n"
     ]
    }
   ],
   "source": [
    "#calculating time between last ADL and return\n",
    "diff_days = []\n",
    "hi_id_last_ADL = []\n",
    "\n",
    "cnt = 0\n",
    "\n",
    "for hi_id, group in cleaned_df.groupby('HearingInstrumentId'):        \n",
    "        if(cnt%1000 == 0):\n",
    "            print(cnt)            \n",
    "        \n",
    "        cnt += 1\n",
    "        \n",
    "        re_date = group['ReturnDate'].iloc[0]\n",
    "        \n",
    "        if (group.iloc[group.index < re_date].empty):\n",
    "            continue\n",
    "        \n",
    "        diff_days.append((pd.Timestamp(re_date) - \\\n",
    "        pd.Timestamp(group.iloc[group.index < re_date].index[-1][:-6])).days)            \n",
    "        \n",
    "        if (diff_days[-1] > 30):\n",
    "            continue\n",
    "                \n",
    "        hi_id_last_ADL.append(hi_id)      \n",
    "        "
   ]
  },
  {
   "cell_type": "code",
   "execution_count": 15,
   "metadata": {},
   "outputs": [
    {
     "output_type": "execute_result",
     "data": {
      "text/plain": [
       "1343"
      ]
     },
     "metadata": {},
     "execution_count": 15
    }
   ],
   "source": [
    " len(diff_days)"
   ]
  },
  {
   "cell_type": "code",
   "execution_count": 16,
   "metadata": {},
   "outputs": [
    {
     "output_type": "execute_result",
     "data": {
      "text/plain": [
       "[Text(0, 0, '0'),\n",
       " Text(0, 100, '7'),\n",
       " Text(0, 200, '15'),\n",
       " Text(0, 300, '22'),\n",
       " Text(0, 400, '30'),\n",
       " Text(0, 500, '37'),\n",
       " Text(0, 600, '45'),\n",
       " Text(0, 700, '52')]"
      ]
     },
     "metadata": {},
     "execution_count": 16
    },
    {
     "output_type": "display_data",
     "data": {
      "text/plain": "<Figure size 720x360 with 1 Axes>",
      "image/svg+xml": "<?xml version=\"1.0\" encoding=\"utf-8\" standalone=\"no\"?>\n<!DOCTYPE svg PUBLIC \"-//W3C//DTD SVG 1.1//EN\"\n  \"http://www.w3.org/Graphics/SVG/1.1/DTD/svg11.dtd\">\n<!-- Created with matplotlib (https://matplotlib.org/) -->\n<svg height=\"306.677344pt\" version=\"1.1\" viewBox=\"0 0 592.125 306.677344\" width=\"592.125pt\" xmlns=\"http://www.w3.org/2000/svg\" xmlns:xlink=\"http://www.w3.org/1999/xlink\">\n <metadata>\n  <rdf:RDF xmlns:cc=\"http://creativecommons.org/ns#\" xmlns:dc=\"http://purl.org/dc/elements/1.1/\" xmlns:rdf=\"http://www.w3.org/1999/02/22-rdf-syntax-ns#\">\n   <cc:Work>\n    <dc:type rdf:resource=\"http://purl.org/dc/dcmitype/StillImage\"/>\n    <dc:date>2020-11-12T16:52:57.971819</dc:date>\n    <dc:format>image/svg+xml</dc:format>\n    <dc:creator>\n     <cc:Agent>\n      <dc:title>Matplotlib v3.3.3, https://matplotlib.org/</dc:title>\n     </cc:Agent>\n    </dc:creator>\n   </cc:Work>\n  </rdf:RDF>\n </metadata>\n <defs>\n  <style type=\"text/css\">*{stroke-linecap:butt;stroke-linejoin:round;}</style>\n </defs>\n <g id=\"figure_1\">\n  <g id=\"patch_1\">\n   <path d=\"M 0 306.677344 \nL 592.125 306.677344 \nL 592.125 0 \nL 0 0 \nz\n\" style=\"fill:none;\"/>\n  </g>\n  <g id=\"axes_1\">\n   <g id=\"patch_2\">\n    <path d=\"M 26.925 282.799219 \nL 584.925 282.799219 \nL 584.925 10.999219 \nL 26.925 10.999219 \nz\n\" style=\"fill:#ffffff;\"/>\n   </g>\n   <g id=\"patch_3\">\n    <path clip-path=\"url(#p8f2ea3907a)\" d=\"M 52.288636 282.799219 \nL 60.743182 282.799219 \nL 60.743182 40.508933 \nL 52.288636 40.508933 \nz\n\" style=\"fill:#1f77b4;\"/>\n   </g>\n   <g id=\"patch_4\">\n    <path clip-path=\"url(#p8f2ea3907a)\" d=\"M 60.743182 282.799219 \nL 69.197727 282.799219 \nL 69.197727 172.526076 \nL 60.743182 172.526076 \nz\n\" style=\"fill:#1f77b4;\"/>\n   </g>\n   <g id=\"patch_5\">\n    <path clip-path=\"url(#p8f2ea3907a)\" d=\"M 69.197727 282.799219 \nL 77.652273 282.799219 \nL 77.652273 234.65179 \nL 69.197727 234.65179 \nz\n\" style=\"fill:#1f77b4;\"/>\n   </g>\n   <g id=\"patch_6\">\n    <path clip-path=\"url(#p8f2ea3907a)\" d=\"M 77.652273 282.799219 \nL 86.106818 282.799219 \nL 86.106818 261.055219 \nL 77.652273 261.055219 \nz\n\" style=\"fill:#1f77b4;\"/>\n   </g>\n   <g id=\"patch_7\">\n    <path clip-path=\"url(#p8f2ea3907a)\" d=\"M 86.106818 282.799219 \nL 94.561364 282.799219 \nL 94.561364 264.161504 \nL 86.106818 264.161504 \nz\n\" style=\"fill:#1f77b4;\"/>\n   </g>\n   <g id=\"patch_8\">\n    <path clip-path=\"url(#p8f2ea3907a)\" d=\"M 94.561364 282.799219 \nL 103.015909 282.799219 \nL 103.015909 270.374076 \nL 94.561364 270.374076 \nz\n\" style=\"fill:#1f77b4;\"/>\n   </g>\n   <g id=\"patch_9\">\n    <path clip-path=\"url(#p8f2ea3907a)\" d=\"M 103.015909 282.799219 \nL 111.470455 282.799219 \nL 111.470455 274.645219 \nL 103.015909 274.645219 \nz\n\" style=\"fill:#1f77b4;\"/>\n   </g>\n   <g id=\"patch_10\">\n    <path clip-path=\"url(#p8f2ea3907a)\" d=\"M 111.470455 282.799219 \nL 119.925 282.799219 \nL 119.925 274.645219 \nL 111.470455 274.645219 \nz\n\" style=\"fill:#1f77b4;\"/>\n   </g>\n   <g id=\"patch_11\">\n    <path clip-path=\"url(#p8f2ea3907a)\" d=\"M 119.925 282.799219 \nL 128.379545 282.799219 \nL 128.379545 279.692933 \nL 119.925 279.692933 \nz\n\" style=\"fill:#1f77b4;\"/>\n   </g>\n   <g id=\"patch_12\">\n    <path clip-path=\"url(#p8f2ea3907a)\" d=\"M 128.379545 282.799219 \nL 136.834091 282.799219 \nL 136.834091 278.13979 \nL 128.379545 278.13979 \nz\n\" style=\"fill:#1f77b4;\"/>\n   </g>\n   <g id=\"patch_13\">\n    <path clip-path=\"url(#p8f2ea3907a)\" d=\"M 136.834091 282.799219 \nL 145.288636 282.799219 \nL 145.288636 279.304647 \nL 136.834091 279.304647 \nz\n\" style=\"fill:#1f77b4;\"/>\n   </g>\n   <g id=\"patch_14\">\n    <path clip-path=\"url(#p8f2ea3907a)\" d=\"M 145.288636 282.799219 \nL 153.743182 282.799219 \nL 153.743182 279.692933 \nL 145.288636 279.692933 \nz\n\" style=\"fill:#1f77b4;\"/>\n   </g>\n   <g id=\"patch_15\">\n    <path clip-path=\"url(#p8f2ea3907a)\" d=\"M 153.743182 282.799219 \nL 162.197727 282.799219 \nL 162.197727 279.304647 \nL 153.743182 279.304647 \nz\n\" style=\"fill:#1f77b4;\"/>\n   </g>\n   <g id=\"patch_16\">\n    <path clip-path=\"url(#p8f2ea3907a)\" d=\"M 162.197727 282.799219 \nL 170.652273 282.799219 \nL 170.652273 276.974933 \nL 162.197727 276.974933 \nz\n\" style=\"fill:#1f77b4;\"/>\n   </g>\n   <g id=\"patch_17\">\n    <path clip-path=\"url(#p8f2ea3907a)\" d=\"M 170.652273 282.799219 \nL 179.106818 282.799219 \nL 179.106818 280.85779 \nL 170.652273 280.85779 \nz\n\" style=\"fill:#1f77b4;\"/>\n   </g>\n   <g id=\"patch_18\">\n    <path clip-path=\"url(#p8f2ea3907a)\" d=\"M 179.106818 282.799219 \nL 187.561364 282.799219 \nL 187.561364 278.528076 \nL 179.106818 278.528076 \nz\n\" style=\"fill:#1f77b4;\"/>\n   </g>\n   <g id=\"patch_19\">\n    <path clip-path=\"url(#p8f2ea3907a)\" d=\"M 187.561364 282.799219 \nL 196.015909 282.799219 \nL 196.015909 280.85779 \nL 187.561364 280.85779 \nz\n\" style=\"fill:#1f77b4;\"/>\n   </g>\n   <g id=\"patch_20\">\n    <path clip-path=\"url(#p8f2ea3907a)\" d=\"M 196.015909 282.799219 \nL 204.470455 282.799219 \nL 204.470455 282.410933 \nL 196.015909 282.410933 \nz\n\" style=\"fill:#1f77b4;\"/>\n   </g>\n   <g id=\"patch_21\">\n    <path clip-path=\"url(#p8f2ea3907a)\" d=\"M 204.470455 282.799219 \nL 212.925 282.799219 \nL 212.925 280.469504 \nL 204.470455 280.469504 \nz\n\" style=\"fill:#1f77b4;\"/>\n   </g>\n   <g id=\"patch_22\">\n    <path clip-path=\"url(#p8f2ea3907a)\" d=\"M 212.925 282.799219 \nL 221.379545 282.799219 \nL 221.379545 281.634362 \nL 212.925 281.634362 \nz\n\" style=\"fill:#1f77b4;\"/>\n   </g>\n   <g id=\"patch_23\">\n    <path clip-path=\"url(#p8f2ea3907a)\" d=\"M 221.379545 282.799219 \nL 229.834091 282.799219 \nL 229.834091 280.85779 \nL 221.379545 280.85779 \nz\n\" style=\"fill:#1f77b4;\"/>\n   </g>\n   <g id=\"patch_24\">\n    <path clip-path=\"url(#p8f2ea3907a)\" d=\"M 229.834091 282.799219 \nL 238.288636 282.799219 \nL 238.288636 281.246076 \nL 229.834091 281.246076 \nz\n\" style=\"fill:#1f77b4;\"/>\n   </g>\n   <g id=\"patch_25\">\n    <path clip-path=\"url(#p8f2ea3907a)\" d=\"M 238.288636 282.799219 \nL 246.743182 282.799219 \nL 246.743182 282.022647 \nL 238.288636 282.022647 \nz\n\" style=\"fill:#1f77b4;\"/>\n   </g>\n   <g id=\"patch_26\">\n    <path clip-path=\"url(#p8f2ea3907a)\" d=\"M 246.743182 282.799219 \nL 255.197727 282.799219 \nL 255.197727 282.410933 \nL 246.743182 282.410933 \nz\n\" style=\"fill:#1f77b4;\"/>\n   </g>\n   <g id=\"patch_27\">\n    <path clip-path=\"url(#p8f2ea3907a)\" d=\"M 255.197727 282.799219 \nL 263.652273 282.799219 \nL 263.652273 282.022647 \nL 255.197727 282.022647 \nz\n\" style=\"fill:#1f77b4;\"/>\n   </g>\n   <g id=\"patch_28\">\n    <path clip-path=\"url(#p8f2ea3907a)\" d=\"M 263.652273 282.799219 \nL 272.106818 282.799219 \nL 272.106818 282.799219 \nL 263.652273 282.799219 \nz\n\" style=\"fill:#1f77b4;\"/>\n   </g>\n   <g id=\"patch_29\">\n    <path clip-path=\"url(#p8f2ea3907a)\" d=\"M 272.106818 282.799219 \nL 280.561364 282.799219 \nL 280.561364 282.022647 \nL 272.106818 282.022647 \nz\n\" style=\"fill:#1f77b4;\"/>\n   </g>\n   <g id=\"patch_30\">\n    <path clip-path=\"url(#p8f2ea3907a)\" d=\"M 280.561364 282.799219 \nL 289.015909 282.799219 \nL 289.015909 282.022647 \nL 280.561364 282.022647 \nz\n\" style=\"fill:#1f77b4;\"/>\n   </g>\n   <g id=\"patch_31\">\n    <path clip-path=\"url(#p8f2ea3907a)\" d=\"M 289.015909 282.799219 \nL 297.470455 282.799219 \nL 297.470455 281.634362 \nL 289.015909 281.634362 \nz\n\" style=\"fill:#1f77b4;\"/>\n   </g>\n   <g id=\"patch_32\">\n    <path clip-path=\"url(#p8f2ea3907a)\" d=\"M 297.470455 282.799219 \nL 305.925 282.799219 \nL 305.925 282.410933 \nL 297.470455 282.410933 \nz\n\" style=\"fill:#1f77b4;\"/>\n   </g>\n   <g id=\"patch_33\">\n    <path clip-path=\"url(#p8f2ea3907a)\" d=\"M 305.925 282.799219 \nL 314.379545 282.799219 \nL 314.379545 281.634362 \nL 305.925 281.634362 \nz\n\" style=\"fill:#1f77b4;\"/>\n   </g>\n   <g id=\"patch_34\">\n    <path clip-path=\"url(#p8f2ea3907a)\" d=\"M 314.379545 282.799219 \nL 322.834091 282.799219 \nL 322.834091 282.022647 \nL 314.379545 282.022647 \nz\n\" style=\"fill:#1f77b4;\"/>\n   </g>\n   <g id=\"patch_35\">\n    <path clip-path=\"url(#p8f2ea3907a)\" d=\"M 322.834091 282.799219 \nL 331.288636 282.799219 \nL 331.288636 282.022647 \nL 322.834091 282.022647 \nz\n\" style=\"fill:#1f77b4;\"/>\n   </g>\n   <g id=\"patch_36\">\n    <path clip-path=\"url(#p8f2ea3907a)\" d=\"M 331.288636 282.799219 \nL 339.743182 282.799219 \nL 339.743182 282.022647 \nL 331.288636 282.022647 \nz\n\" style=\"fill:#1f77b4;\"/>\n   </g>\n   <g id=\"patch_37\">\n    <path clip-path=\"url(#p8f2ea3907a)\" d=\"M 339.743182 282.799219 \nL 348.197727 282.799219 \nL 348.197727 282.410933 \nL 339.743182 282.410933 \nz\n\" style=\"fill:#1f77b4;\"/>\n   </g>\n   <g id=\"patch_38\">\n    <path clip-path=\"url(#p8f2ea3907a)\" d=\"M 348.197727 282.799219 \nL 356.652273 282.799219 \nL 356.652273 282.410933 \nL 348.197727 282.410933 \nz\n\" style=\"fill:#1f77b4;\"/>\n   </g>\n   <g id=\"patch_39\">\n    <path clip-path=\"url(#p8f2ea3907a)\" d=\"M 356.652273 282.799219 \nL 365.106818 282.799219 \nL 365.106818 282.799219 \nL 356.652273 282.799219 \nz\n\" style=\"fill:#1f77b4;\"/>\n   </g>\n   <g id=\"patch_40\">\n    <path clip-path=\"url(#p8f2ea3907a)\" d=\"M 365.106818 282.799219 \nL 373.561364 282.799219 \nL 373.561364 282.410933 \nL 365.106818 282.410933 \nz\n\" style=\"fill:#1f77b4;\"/>\n   </g>\n   <g id=\"patch_41\">\n    <path clip-path=\"url(#p8f2ea3907a)\" d=\"M 373.561364 282.799219 \nL 382.015909 282.799219 \nL 382.015909 282.799219 \nL 373.561364 282.799219 \nz\n\" style=\"fill:#1f77b4;\"/>\n   </g>\n   <g id=\"patch_42\">\n    <path clip-path=\"url(#p8f2ea3907a)\" d=\"M 382.015909 282.799219 \nL 390.470455 282.799219 \nL 390.470455 282.799219 \nL 382.015909 282.799219 \nz\n\" style=\"fill:#1f77b4;\"/>\n   </g>\n   <g id=\"patch_43\">\n    <path clip-path=\"url(#p8f2ea3907a)\" d=\"M 390.470455 282.799219 \nL 398.925 282.799219 \nL 398.925 282.022647 \nL 390.470455 282.022647 \nz\n\" style=\"fill:#1f77b4;\"/>\n   </g>\n   <g id=\"patch_44\">\n    <path clip-path=\"url(#p8f2ea3907a)\" d=\"M 398.925 282.799219 \nL 407.379545 282.799219 \nL 407.379545 282.410933 \nL 398.925 282.410933 \nz\n\" style=\"fill:#1f77b4;\"/>\n   </g>\n   <g id=\"patch_45\">\n    <path clip-path=\"url(#p8f2ea3907a)\" d=\"M 407.379545 282.799219 \nL 415.834091 282.799219 \nL 415.834091 282.799219 \nL 407.379545 282.799219 \nz\n\" style=\"fill:#1f77b4;\"/>\n   </g>\n   <g id=\"patch_46\">\n    <path clip-path=\"url(#p8f2ea3907a)\" d=\"M 415.834091 282.799219 \nL 424.288636 282.799219 \nL 424.288636 282.410933 \nL 415.834091 282.410933 \nz\n\" style=\"fill:#1f77b4;\"/>\n   </g>\n   <g id=\"patch_47\">\n    <path clip-path=\"url(#p8f2ea3907a)\" d=\"M 424.288636 282.799219 \nL 432.743182 282.799219 \nL 432.743182 282.799219 \nL 424.288636 282.799219 \nz\n\" style=\"fill:#1f77b4;\"/>\n   </g>\n   <g id=\"patch_48\">\n    <path clip-path=\"url(#p8f2ea3907a)\" d=\"M 432.743182 282.799219 \nL 441.197727 282.799219 \nL 441.197727 282.799219 \nL 432.743182 282.799219 \nz\n\" style=\"fill:#1f77b4;\"/>\n   </g>\n   <g id=\"patch_49\">\n    <path clip-path=\"url(#p8f2ea3907a)\" d=\"M 441.197727 282.799219 \nL 449.652273 282.799219 \nL 449.652273 282.799219 \nL 441.197727 282.799219 \nz\n\" style=\"fill:#1f77b4;\"/>\n   </g>\n   <g id=\"patch_50\">\n    <path clip-path=\"url(#p8f2ea3907a)\" d=\"M 449.652273 282.799219 \nL 458.106818 282.799219 \nL 458.106818 282.410933 \nL 449.652273 282.410933 \nz\n\" style=\"fill:#1f77b4;\"/>\n   </g>\n   <g id=\"patch_51\">\n    <path clip-path=\"url(#p8f2ea3907a)\" d=\"M 458.106818 282.799219 \nL 466.561364 282.799219 \nL 466.561364 282.799219 \nL 458.106818 282.799219 \nz\n\" style=\"fill:#1f77b4;\"/>\n   </g>\n   <g id=\"patch_52\">\n    <path clip-path=\"url(#p8f2ea3907a)\" d=\"M 466.561364 282.799219 \nL 475.015909 282.799219 \nL 475.015909 282.799219 \nL 466.561364 282.799219 \nz\n\" style=\"fill:#1f77b4;\"/>\n   </g>\n   <g id=\"patch_53\">\n    <path clip-path=\"url(#p8f2ea3907a)\" d=\"M 475.015909 282.799219 \nL 483.470455 282.799219 \nL 483.470455 282.799219 \nL 475.015909 282.799219 \nz\n\" style=\"fill:#1f77b4;\"/>\n   </g>\n   <g id=\"patch_54\">\n    <path clip-path=\"url(#p8f2ea3907a)\" d=\"M 483.470455 282.799219 \nL 491.925 282.799219 \nL 491.925 282.799219 \nL 483.470455 282.799219 \nz\n\" style=\"fill:#1f77b4;\"/>\n   </g>\n   <g id=\"patch_55\">\n    <path clip-path=\"url(#p8f2ea3907a)\" d=\"M 491.925 282.799219 \nL 500.379545 282.799219 \nL 500.379545 282.799219 \nL 491.925 282.799219 \nz\n\" style=\"fill:#1f77b4;\"/>\n   </g>\n   <g id=\"patch_56\">\n    <path clip-path=\"url(#p8f2ea3907a)\" d=\"M 500.379545 282.799219 \nL 508.834091 282.799219 \nL 508.834091 282.410933 \nL 500.379545 282.410933 \nz\n\" style=\"fill:#1f77b4;\"/>\n   </g>\n   <g id=\"patch_57\">\n    <path clip-path=\"url(#p8f2ea3907a)\" d=\"M 508.834091 282.799219 \nL 517.288636 282.799219 \nL 517.288636 282.799219 \nL 508.834091 282.799219 \nz\n\" style=\"fill:#1f77b4;\"/>\n   </g>\n   <g id=\"patch_58\">\n    <path clip-path=\"url(#p8f2ea3907a)\" d=\"M 517.288636 282.799219 \nL 525.743182 282.799219 \nL 525.743182 282.799219 \nL 517.288636 282.799219 \nz\n\" style=\"fill:#1f77b4;\"/>\n   </g>\n   <g id=\"patch_59\">\n    <path clip-path=\"url(#p8f2ea3907a)\" d=\"M 525.743182 282.799219 \nL 534.197727 282.799219 \nL 534.197727 282.799219 \nL 525.743182 282.799219 \nz\n\" style=\"fill:#1f77b4;\"/>\n   </g>\n   <g id=\"patch_60\">\n    <path clip-path=\"url(#p8f2ea3907a)\" d=\"M 534.197727 282.799219 \nL 542.652273 282.799219 \nL 542.652273 282.799219 \nL 534.197727 282.799219 \nz\n\" style=\"fill:#1f77b4;\"/>\n   </g>\n   <g id=\"patch_61\">\n    <path clip-path=\"url(#p8f2ea3907a)\" d=\"M 542.652273 282.799219 \nL 551.106818 282.799219 \nL 551.106818 282.799219 \nL 542.652273 282.799219 \nz\n\" style=\"fill:#1f77b4;\"/>\n   </g>\n   <g id=\"patch_62\">\n    <path clip-path=\"url(#p8f2ea3907a)\" d=\"M 551.106818 282.799219 \nL 559.561364 282.799219 \nL 559.561364 282.410933 \nL 551.106818 282.410933 \nz\n\" style=\"fill:#1f77b4;\"/>\n   </g>\n   <g id=\"matplotlib.axis_1\">\n    <g id=\"xtick_1\">\n     <g id=\"line2d_1\">\n      <defs>\n       <path d=\"M 0 0 \nL 0 3.5 \n\" id=\"m4e8697da42\" style=\"stroke:#000000;stroke-width:0.8;\"/>\n      </defs>\n      <g>\n       <use style=\"stroke:#000000;stroke-width:0.8;\" x=\"52.288636\" xlink:href=\"#m4e8697da42\" y=\"282.799219\"/>\n      </g>\n     </g>\n     <g id=\"text_1\">\n      <!-- 0 -->\n      <g transform=\"translate(49.107386 297.397656)scale(0.1 -0.1)\">\n       <defs>\n        <path d=\"M 31.78125 66.40625 \nQ 24.171875 66.40625 20.328125 58.90625 \nQ 16.5 51.421875 16.5 36.375 \nQ 16.5 21.390625 20.328125 13.890625 \nQ 24.171875 6.390625 31.78125 6.390625 \nQ 39.453125 6.390625 43.28125 13.890625 \nQ 47.125 21.390625 47.125 36.375 \nQ 47.125 51.421875 43.28125 58.90625 \nQ 39.453125 66.40625 31.78125 66.40625 \nz\nM 31.78125 74.21875 \nQ 44.046875 74.21875 50.515625 64.515625 \nQ 56.984375 54.828125 56.984375 36.375 \nQ 56.984375 17.96875 50.515625 8.265625 \nQ 44.046875 -1.421875 31.78125 -1.421875 \nQ 19.53125 -1.421875 13.0625 8.265625 \nQ 6.59375 17.96875 6.59375 36.375 \nQ 6.59375 54.828125 13.0625 64.515625 \nQ 19.53125 74.21875 31.78125 74.21875 \nz\n\" id=\"DejaVuSans-48\"/>\n       </defs>\n       <use xlink:href=\"#DejaVuSans-48\"/>\n      </g>\n     </g>\n    </g>\n    <g id=\"xtick_2\">\n     <g id=\"line2d_2\">\n      <g>\n       <use style=\"stroke:#000000;stroke-width:0.8;\" x=\"128.685131\" xlink:href=\"#m4e8697da42\" y=\"282.799219\"/>\n      </g>\n     </g>\n     <g id=\"text_2\">\n      <!-- 100 -->\n      <g transform=\"translate(119.141381 297.397656)scale(0.1 -0.1)\">\n       <defs>\n        <path d=\"M 12.40625 8.296875 \nL 28.515625 8.296875 \nL 28.515625 63.921875 \nL 10.984375 60.40625 \nL 10.984375 69.390625 \nL 28.421875 72.90625 \nL 38.28125 72.90625 \nL 38.28125 8.296875 \nL 54.390625 8.296875 \nL 54.390625 0 \nL 12.40625 0 \nz\n\" id=\"DejaVuSans-49\"/>\n       </defs>\n       <use xlink:href=\"#DejaVuSans-49\"/>\n       <use x=\"63.623047\" xlink:href=\"#DejaVuSans-48\"/>\n       <use x=\"127.246094\" xlink:href=\"#DejaVuSans-48\"/>\n      </g>\n     </g>\n    </g>\n    <g id=\"xtick_3\">\n     <g id=\"line2d_3\">\n      <g>\n       <use style=\"stroke:#000000;stroke-width:0.8;\" x=\"205.081627\" xlink:href=\"#m4e8697da42\" y=\"282.799219\"/>\n      </g>\n     </g>\n     <g id=\"text_3\">\n      <!-- 200 -->\n      <g transform=\"translate(195.537877 297.397656)scale(0.1 -0.1)\">\n       <defs>\n        <path d=\"M 19.1875 8.296875 \nL 53.609375 8.296875 \nL 53.609375 0 \nL 7.328125 0 \nL 7.328125 8.296875 \nQ 12.9375 14.109375 22.625 23.890625 \nQ 32.328125 33.6875 34.8125 36.53125 \nQ 39.546875 41.84375 41.421875 45.53125 \nQ 43.3125 49.21875 43.3125 52.78125 \nQ 43.3125 58.59375 39.234375 62.25 \nQ 35.15625 65.921875 28.609375 65.921875 \nQ 23.96875 65.921875 18.8125 64.3125 \nQ 13.671875 62.703125 7.8125 59.421875 \nL 7.8125 69.390625 \nQ 13.765625 71.78125 18.9375 73 \nQ 24.125 74.21875 28.421875 74.21875 \nQ 39.75 74.21875 46.484375 68.546875 \nQ 53.21875 62.890625 53.21875 53.421875 \nQ 53.21875 48.921875 51.53125 44.890625 \nQ 49.859375 40.875 45.40625 35.40625 \nQ 44.1875 33.984375 37.640625 27.21875 \nQ 31.109375 20.453125 19.1875 8.296875 \nz\n\" id=\"DejaVuSans-50\"/>\n       </defs>\n       <use xlink:href=\"#DejaVuSans-50\"/>\n       <use x=\"63.623047\" xlink:href=\"#DejaVuSans-48\"/>\n       <use x=\"127.246094\" xlink:href=\"#DejaVuSans-48\"/>\n      </g>\n     </g>\n    </g>\n    <g id=\"xtick_4\">\n     <g id=\"line2d_4\">\n      <g>\n       <use style=\"stroke:#000000;stroke-width:0.8;\" x=\"281.478122\" xlink:href=\"#m4e8697da42\" y=\"282.799219\"/>\n      </g>\n     </g>\n     <g id=\"text_4\">\n      <!-- 300 -->\n      <g transform=\"translate(271.934372 297.397656)scale(0.1 -0.1)\">\n       <defs>\n        <path d=\"M 40.578125 39.3125 \nQ 47.65625 37.796875 51.625 33 \nQ 55.609375 28.21875 55.609375 21.1875 \nQ 55.609375 10.40625 48.1875 4.484375 \nQ 40.765625 -1.421875 27.09375 -1.421875 \nQ 22.515625 -1.421875 17.65625 -0.515625 \nQ 12.796875 0.390625 7.625 2.203125 \nL 7.625 11.71875 \nQ 11.71875 9.328125 16.59375 8.109375 \nQ 21.484375 6.890625 26.8125 6.890625 \nQ 36.078125 6.890625 40.9375 10.546875 \nQ 45.796875 14.203125 45.796875 21.1875 \nQ 45.796875 27.640625 41.28125 31.265625 \nQ 36.765625 34.90625 28.71875 34.90625 \nL 20.21875 34.90625 \nL 20.21875 43.015625 \nL 29.109375 43.015625 \nQ 36.375 43.015625 40.234375 45.921875 \nQ 44.09375 48.828125 44.09375 54.296875 \nQ 44.09375 59.90625 40.109375 62.90625 \nQ 36.140625 65.921875 28.71875 65.921875 \nQ 24.65625 65.921875 20.015625 65.03125 \nQ 15.375 64.15625 9.8125 62.3125 \nL 9.8125 71.09375 \nQ 15.4375 72.65625 20.34375 73.4375 \nQ 25.25 74.21875 29.59375 74.21875 \nQ 40.828125 74.21875 47.359375 69.109375 \nQ 53.90625 64.015625 53.90625 55.328125 \nQ 53.90625 49.265625 50.4375 45.09375 \nQ 46.96875 40.921875 40.578125 39.3125 \nz\n\" id=\"DejaVuSans-51\"/>\n       </defs>\n       <use xlink:href=\"#DejaVuSans-51\"/>\n       <use x=\"63.623047\" xlink:href=\"#DejaVuSans-48\"/>\n       <use x=\"127.246094\" xlink:href=\"#DejaVuSans-48\"/>\n      </g>\n     </g>\n    </g>\n    <g id=\"xtick_5\">\n     <g id=\"line2d_5\">\n      <g>\n       <use style=\"stroke:#000000;stroke-width:0.8;\" x=\"357.874617\" xlink:href=\"#m4e8697da42\" y=\"282.799219\"/>\n      </g>\n     </g>\n     <g id=\"text_5\">\n      <!-- 400 -->\n      <g transform=\"translate(348.330867 297.397656)scale(0.1 -0.1)\">\n       <defs>\n        <path d=\"M 37.796875 64.3125 \nL 12.890625 25.390625 \nL 37.796875 25.390625 \nz\nM 35.203125 72.90625 \nL 47.609375 72.90625 \nL 47.609375 25.390625 \nL 58.015625 25.390625 \nL 58.015625 17.1875 \nL 47.609375 17.1875 \nL 47.609375 0 \nL 37.796875 0 \nL 37.796875 17.1875 \nL 4.890625 17.1875 \nL 4.890625 26.703125 \nz\n\" id=\"DejaVuSans-52\"/>\n       </defs>\n       <use xlink:href=\"#DejaVuSans-52\"/>\n       <use x=\"63.623047\" xlink:href=\"#DejaVuSans-48\"/>\n       <use x=\"127.246094\" xlink:href=\"#DejaVuSans-48\"/>\n      </g>\n     </g>\n    </g>\n    <g id=\"xtick_6\">\n     <g id=\"line2d_6\">\n      <g>\n       <use style=\"stroke:#000000;stroke-width:0.8;\" x=\"434.271112\" xlink:href=\"#m4e8697da42\" y=\"282.799219\"/>\n      </g>\n     </g>\n     <g id=\"text_6\">\n      <!-- 500 -->\n      <g transform=\"translate(424.727362 297.397656)scale(0.1 -0.1)\">\n       <defs>\n        <path d=\"M 10.796875 72.90625 \nL 49.515625 72.90625 \nL 49.515625 64.59375 \nL 19.828125 64.59375 \nL 19.828125 46.734375 \nQ 21.96875 47.46875 24.109375 47.828125 \nQ 26.265625 48.1875 28.421875 48.1875 \nQ 40.625 48.1875 47.75 41.5 \nQ 54.890625 34.8125 54.890625 23.390625 \nQ 54.890625 11.625 47.5625 5.09375 \nQ 40.234375 -1.421875 26.90625 -1.421875 \nQ 22.3125 -1.421875 17.546875 -0.640625 \nQ 12.796875 0.140625 7.71875 1.703125 \nL 7.71875 11.625 \nQ 12.109375 9.234375 16.796875 8.0625 \nQ 21.484375 6.890625 26.703125 6.890625 \nQ 35.15625 6.890625 40.078125 11.328125 \nQ 45.015625 15.765625 45.015625 23.390625 \nQ 45.015625 31 40.078125 35.4375 \nQ 35.15625 39.890625 26.703125 39.890625 \nQ 22.75 39.890625 18.8125 39.015625 \nQ 14.890625 38.140625 10.796875 36.28125 \nz\n\" id=\"DejaVuSans-53\"/>\n       </defs>\n       <use xlink:href=\"#DejaVuSans-53\"/>\n       <use x=\"63.623047\" xlink:href=\"#DejaVuSans-48\"/>\n       <use x=\"127.246094\" xlink:href=\"#DejaVuSans-48\"/>\n      </g>\n     </g>\n    </g>\n    <g id=\"xtick_7\">\n     <g id=\"line2d_7\">\n      <g>\n       <use style=\"stroke:#000000;stroke-width:0.8;\" x=\"510.667607\" xlink:href=\"#m4e8697da42\" y=\"282.799219\"/>\n      </g>\n     </g>\n     <g id=\"text_7\">\n      <!-- 600 -->\n      <g transform=\"translate(501.123857 297.397656)scale(0.1 -0.1)\">\n       <defs>\n        <path d=\"M 33.015625 40.375 \nQ 26.375 40.375 22.484375 35.828125 \nQ 18.609375 31.296875 18.609375 23.390625 \nQ 18.609375 15.53125 22.484375 10.953125 \nQ 26.375 6.390625 33.015625 6.390625 \nQ 39.65625 6.390625 43.53125 10.953125 \nQ 47.40625 15.53125 47.40625 23.390625 \nQ 47.40625 31.296875 43.53125 35.828125 \nQ 39.65625 40.375 33.015625 40.375 \nz\nM 52.59375 71.296875 \nL 52.59375 62.3125 \nQ 48.875 64.0625 45.09375 64.984375 \nQ 41.3125 65.921875 37.59375 65.921875 \nQ 27.828125 65.921875 22.671875 59.328125 \nQ 17.53125 52.734375 16.796875 39.40625 \nQ 19.671875 43.65625 24.015625 45.921875 \nQ 28.375 48.1875 33.59375 48.1875 \nQ 44.578125 48.1875 50.953125 41.515625 \nQ 57.328125 34.859375 57.328125 23.390625 \nQ 57.328125 12.15625 50.6875 5.359375 \nQ 44.046875 -1.421875 33.015625 -1.421875 \nQ 20.359375 -1.421875 13.671875 8.265625 \nQ 6.984375 17.96875 6.984375 36.375 \nQ 6.984375 53.65625 15.1875 63.9375 \nQ 23.390625 74.21875 37.203125 74.21875 \nQ 40.921875 74.21875 44.703125 73.484375 \nQ 48.484375 72.75 52.59375 71.296875 \nz\n\" id=\"DejaVuSans-54\"/>\n       </defs>\n       <use xlink:href=\"#DejaVuSans-54\"/>\n       <use x=\"63.623047\" xlink:href=\"#DejaVuSans-48\"/>\n       <use x=\"127.246094\" xlink:href=\"#DejaVuSans-48\"/>\n      </g>\n     </g>\n    </g>\n   </g>\n   <g id=\"matplotlib.axis_2\">\n    <g id=\"ytick_1\">\n     <g id=\"line2d_8\">\n      <defs>\n       <path d=\"M 0 0 \nL -3.5 0 \n\" id=\"m4aa089b6f4\" style=\"stroke:#000000;stroke-width:0.8;\"/>\n      </defs>\n      <g>\n       <use style=\"stroke:#000000;stroke-width:0.8;\" x=\"26.925\" xlink:href=\"#m4aa089b6f4\" y=\"282.799219\"/>\n      </g>\n     </g>\n     <g id=\"text_8\">\n      <!-- 0 -->\n      <g transform=\"translate(13.5625 286.598437)scale(0.1 -0.1)\">\n       <use xlink:href=\"#DejaVuSans-48\"/>\n      </g>\n     </g>\n    </g>\n    <g id=\"ytick_2\">\n     <g id=\"line2d_9\">\n      <g>\n       <use style=\"stroke:#000000;stroke-width:0.8;\" x=\"26.925\" xlink:href=\"#m4aa089b6f4\" y=\"243.970647\"/>\n      </g>\n     </g>\n     <g id=\"text_9\">\n      <!-- 7 -->\n      <g transform=\"translate(13.5625 247.769866)scale(0.1 -0.1)\">\n       <defs>\n        <path d=\"M 8.203125 72.90625 \nL 55.078125 72.90625 \nL 55.078125 68.703125 \nL 28.609375 0 \nL 18.3125 0 \nL 43.21875 64.59375 \nL 8.203125 64.59375 \nz\n\" id=\"DejaVuSans-55\"/>\n       </defs>\n       <use xlink:href=\"#DejaVuSans-55\"/>\n      </g>\n     </g>\n    </g>\n    <g id=\"ytick_3\">\n     <g id=\"line2d_10\">\n      <g>\n       <use style=\"stroke:#000000;stroke-width:0.8;\" x=\"26.925\" xlink:href=\"#m4aa089b6f4\" y=\"205.142076\"/>\n      </g>\n     </g>\n     <g id=\"text_10\">\n      <!-- 15 -->\n      <g transform=\"translate(7.2 208.941295)scale(0.1 -0.1)\">\n       <use xlink:href=\"#DejaVuSans-49\"/>\n       <use x=\"63.623047\" xlink:href=\"#DejaVuSans-53\"/>\n      </g>\n     </g>\n    </g>\n    <g id=\"ytick_4\">\n     <g id=\"line2d_11\">\n      <g>\n       <use style=\"stroke:#000000;stroke-width:0.8;\" x=\"26.925\" xlink:href=\"#m4aa089b6f4\" y=\"166.313504\"/>\n      </g>\n     </g>\n     <g id=\"text_11\">\n      <!-- 22 -->\n      <g transform=\"translate(7.2 170.112723)scale(0.1 -0.1)\">\n       <use xlink:href=\"#DejaVuSans-50\"/>\n       <use x=\"63.623047\" xlink:href=\"#DejaVuSans-50\"/>\n      </g>\n     </g>\n    </g>\n    <g id=\"ytick_5\">\n     <g id=\"line2d_12\">\n      <g>\n       <use style=\"stroke:#000000;stroke-width:0.8;\" x=\"26.925\" xlink:href=\"#m4aa089b6f4\" y=\"127.484933\"/>\n      </g>\n     </g>\n     <g id=\"text_12\">\n      <!-- 30 -->\n      <g transform=\"translate(7.2 131.284152)scale(0.1 -0.1)\">\n       <use xlink:href=\"#DejaVuSans-51\"/>\n       <use x=\"63.623047\" xlink:href=\"#DejaVuSans-48\"/>\n      </g>\n     </g>\n    </g>\n    <g id=\"ytick_6\">\n     <g id=\"line2d_13\">\n      <g>\n       <use style=\"stroke:#000000;stroke-width:0.8;\" x=\"26.925\" xlink:href=\"#m4aa089b6f4\" y=\"88.656362\"/>\n      </g>\n     </g>\n     <g id=\"text_13\">\n      <!-- 37 -->\n      <g transform=\"translate(7.2 92.45558)scale(0.1 -0.1)\">\n       <use xlink:href=\"#DejaVuSans-51\"/>\n       <use x=\"63.623047\" xlink:href=\"#DejaVuSans-55\"/>\n      </g>\n     </g>\n    </g>\n    <g id=\"ytick_7\">\n     <g id=\"line2d_14\">\n      <g>\n       <use style=\"stroke:#000000;stroke-width:0.8;\" x=\"26.925\" xlink:href=\"#m4aa089b6f4\" y=\"49.82779\"/>\n      </g>\n     </g>\n     <g id=\"text_14\">\n      <!-- 45 -->\n      <g transform=\"translate(7.2 53.627009)scale(0.1 -0.1)\">\n       <use xlink:href=\"#DejaVuSans-52\"/>\n       <use x=\"63.623047\" xlink:href=\"#DejaVuSans-53\"/>\n      </g>\n     </g>\n    </g>\n    <g id=\"ytick_8\">\n     <g id=\"line2d_15\">\n      <g>\n       <use style=\"stroke:#000000;stroke-width:0.8;\" x=\"26.925\" xlink:href=\"#m4aa089b6f4\" y=\"10.999219\"/>\n      </g>\n     </g>\n     <g id=\"text_15\">\n      <!-- 52 -->\n      <g transform=\"translate(7.2 14.798437)scale(0.1 -0.1)\">\n       <use xlink:href=\"#DejaVuSans-53\"/>\n       <use x=\"63.623047\" xlink:href=\"#DejaVuSans-50\"/>\n      </g>\n     </g>\n    </g>\n   </g>\n   <g id=\"patch_63\">\n    <path d=\"M 26.925 282.799219 \nL 26.925 10.999219 \n\" style=\"fill:none;stroke:#000000;stroke-linecap:square;stroke-linejoin:miter;stroke-width:0.8;\"/>\n   </g>\n   <g id=\"patch_64\">\n    <path d=\"M 584.925 282.799219 \nL 584.925 10.999219 \n\" style=\"fill:none;stroke:#000000;stroke-linecap:square;stroke-linejoin:miter;stroke-width:0.8;\"/>\n   </g>\n   <g id=\"patch_65\">\n    <path d=\"M 26.925 282.799219 \nL 584.925 282.799219 \n\" style=\"fill:none;stroke:#000000;stroke-linecap:square;stroke-linejoin:miter;stroke-width:0.8;\"/>\n   </g>\n   <g id=\"patch_66\">\n    <path d=\"M 26.925 10.999219 \nL 584.925 10.999219 \n\" style=\"fill:none;stroke:#000000;stroke-linecap:square;stroke-linejoin:miter;stroke-width:0.8;\"/>\n   </g>\n  </g>\n </g>\n <defs>\n  <clipPath id=\"p8f2ea3907a\">\n   <rect height=\"271.8\" width=\"558\" x=\"26.925\" y=\"10.999219\"/>\n  </clipPath>\n </defs>\n</svg>\n",
      "image/png": "[encoded data removed]"
     },
     "metadata": {
      "needs_background": "light"
     }
    }
   ],
   "source": [
    "#now plot the day difference histogram \n",
    "fig = plt.figure(figsize = (10,5))\n",
    "ax = fig.gca()\n",
    "\n",
    "plt.hist(diff_days, bins= 60)\n",
    "ax.set_yticks([0, 100, 200, 300, 400, 500, 600, 700])\n",
    "ax.set_yticklabels([round(x / len(diff_days) *100) for x in [0, 100, 200, 300, 400, 500, 600, 700]])\n"
   ]
  },
  {
   "cell_type": "code",
   "execution_count": 17,
   "metadata": {},
   "outputs": [],
   "source": [
    "import datetime\n",
    "import random\n",
    "\n",
    "def random_date(start, end):\n",
    "    \"\"\"Generate a random datetime between `start` and `end`\"\"\"\n",
    "    return start + datetime.timedelta(\n",
    "        # Get a random amount of seconds between `start` and `end`\n",
    "        seconds=random.randint(0, int((end - start).total_seconds())),\n",
    "    )"
   ]
  },
  {
   "cell_type": "code",
   "execution_count": 18,
   "metadata": {},
   "outputs": [
    {
     "output_type": "execute_result",
     "data": {
      "text/plain": [
       "Index(['ADLProperties_HistogramOnInputPowerPreset1_3',\n",
       "       'ADLProperties_HistogramOnInputPowerPreset1_4',\n",
       "       'ADLProperties_HistogramOnInputPowerPreset1_5',\n",
       "       'ADLProperties_HistogramOnInputPowerPreset1_6',\n",
       "       'ADLProperties_HistogramOnClassifiedEnvironmentPerPreset_0_0',\n",
       "       'ADLProperties_HistogramOnClassifiedEnvironmentPerPreset_0_1',\n",
       "       'ADLProperties_HistogramOnClassifiedEnvironmentPerPreset_0_2',\n",
       "       'ADLProperties_HistogramOnClassifiedEnvironmentPerPreset_0_3',\n",
       "       'ADLProperties_HistogramOnClassifiedEnvironmentPerPreset_0_4',\n",
       "       'ADLProperties_HistogramOnClassifiedEnvironmentPerPreset_0_5',\n",
       "       'ADLProperties_HistogramOnClassifiedEnvironmentPerPreset_0_6',\n",
       "       'ADLProperties_HistogramOnClassifiedEnvironmentPerPreset_1_0',\n",
       "       'ADLProperties_HistogramOnClassifiedEnvironmentPerPreset_1_1',\n",
       "       'ADLProperties_HistogramOnClassifiedEnvironmentPerPreset_1_2',\n",
       "       'ADLProperties_HistogramOnClassifiedEnvironmentPerPreset_1_3',\n",
       "       'ADLProperties_HistogramOnClassifiedEnvironmentPerPreset_1_4',\n",
       "       'ADLProperties_HistogramOnClassifiedEnvironmentPerPreset_1_5',\n",
       "       'ADLProperties_HistogramOnClassifiedEnvironmentPerPreset_1_6',\n",
       "       'ADLProperties_HistogramOnClassifiedEnvironmentPerPreset_2_0',\n",
       "       'ADLProperties_HistogramOnClassifiedEnvironmentPerPreset_2_1',\n",
       "       'ADLProperties_HistogramOnClassifiedEnvironmentPerPreset_2_2',\n",
       "       'ADLProperties_HistogramOnClassifiedEnvironmentPerPreset_2_3',\n",
       "       'ADLProperties_HistogramOnClassifiedEnvironmentPerPreset_2_4',\n",
       "       'ADLProperties_HistogramOnClassifiedEnvironmentPerPreset_2_5',\n",
       "       'ADLProperties_HistogramOnClassifiedEnvironmentPerPreset_2_6',\n",
       "       'ADLProperties_HistogramOnClassifiedEnvironmentPerPreset_3_0',\n",
       "       'ADLProperties_HistogramOnClassifiedEnvironmentPerPreset_3_1',\n",
       "       'ADLProperties_HistogramOnClassifiedEnvironmentPerPreset_3_2',\n",
       "       'ADLProperties_HistogramOnClassifiedEnvironmentPerPreset_3_3',\n",
       "       'ADLProperties_HistogramOnClassifiedEnvironmentPerPreset_3_4',\n",
       "       'ADLProperties_HistogramOnClassifiedEnvironmentPerPreset_3_5',\n",
       "       'ADLProperties_HistogramOnClassifiedEnvironmentPerPreset_3_6',\n",
       "       'ADLProperties_HistogramOnMeanVolumeControlLevelPreset1_0',\n",
       "       'ADLProperties_HistogramOnMeanVolumeControlLevelPreset1_1',\n",
       "       'ADLProperties_HistogramOnMeanVolumeControlLevelPreset1_2',\n",
       "       'ADLProperties_HistogramOnMeanVolumeControlLevelPreset1_3',\n",
       "       'ADLProperties_HistogramOnMeanVolumeControlLevelPreset1_4',\n",
       "       'ADLProperties_HistogramOnMeanVolumeControlLevelPreset1_5',\n",
       "       'ADLProperties_HistogramOnMeanVolumeControlLevelPreset1_6',\n",
       "       'ADLProperties_HistogramOnMeanVolumeControlLevelPreset1_7',\n",
       "       'ADLProperties_HistogramOnMeanVolumeControlLevelPreset1_8',\n",
       "       'ADLProperties_HistogramOnMeanVolumeControlLevelPreset1_9',\n",
       "       'ADLProperties_HistogramOnMeanVolumeControlLevelPreset1_10',\n",
       "       'ADLProperties_HistogramOnMeanVolumeControlLevelPreset1_11',\n",
       "       'ADLProperties_HistogramOnMeanVolumeControlLevelPreset1_12',\n",
       "       'ADLProperties_HistogramOnMeanVolumeControlLevelPreset1_13',\n",
       "       'ADLProperties_HistogramOnMeanVolumeControlLevelPreset1_14',\n",
       "       'ADLProperties_HistogramOnMeanVolumeControlLevelPreset1_15',\n",
       "       'ADLProperties_HistogramOnMeanVolumeControlLevelPreset1_16',\n",
       "       'ADLProperties_HistogramOnMeanVolumeControlLevelPreset1_17',\n",
       "       'ADLProperties_HistogramOnMeanVolumeControlLevelPreset1_18',\n",
       "       'ADLProperties_HistogramOnMeanVolumeControlLevelPreset1_19',\n",
       "       'ADLProperties_HistogramOnMeanVolumeControlLevelPreset1_20',\n",
       "       'ADLProperties_HistogramOnMeanVolumeControlLevelPreset1_21',\n",
       "       'ADLProperties_HistogramOnMeanVolumeControlLevelPreset1_22',\n",
       "       'ADLProperties_HistogramOnMeanVolumeControlLevelPreset1_23',\n",
       "       'ADLProperties_MeanVolumeControlLevelPerPreset_0',\n",
       "       'ADLProperties_MeanVolumeControlLevelPerPreset_1',\n",
       "       'ADLProperties_MeanVolumeControlLevelPerPreset_2',\n",
       "       'ADLProperties_MeanVolumeControlLevelPerPreset_3',\n",
       "       'ADLProperties_MeanVolumeControlLevelPerPreset_4',\n",
       "       'ADLProperties_MeanVolumeControlLevelPerPreset_5',\n",
       "       'ADLProperties_MeanVolumeControlLevelPerPreset_6',\n",
       "       'ADLProperties_MeanVolumeControlLevelPerPreset_7',\n",
       "       'ADLProperties_MeanVolumeControlLevelPerEnvironmentPreset1_0',\n",
       "       'ADLProperties_MeanVolumeControlLevelPerEnvironmentPreset1_1',\n",
       "       'ADLProperties_MeanVolumeControlLevelPerEnvironmentPreset1_2',\n",
       "       'ADLProperties_MeanVolumeControlLevelPerEnvironmentPreset1_3',\n",
       "       'ADLProperties_MeanVolumeControlLevelPerEnvironmentPreset1_4',\n",
       "       'ADLProperties_MeanVolumeControlLevelPerEnvironmentPreset1_5',\n",
       "       'ADLProperties_MeanVolumeControlLevelPerEnvironmentPreset1_6',\n",
       "       'ADLProperties_Bass3StateHistogram_0',\n",
       "       'ADLProperties_Bass3StateHistogram_1',\n",
       "       'ADLProperties_Bass3StateHistogram_2',\n",
       "       'ADLProperties_Bass3StateHistogram_3',\n",
       "       'ADLProperties_SatisfyProgressPercentage_0',\n",
       "       'ADLProperties_SatisfyProgressPercentage_1', 'IsRechargeable', 'class'],\n",
       "      dtype='object')"
      ]
     },
     "metadata": {},
     "execution_count": 18
    }
   ],
   "source": [
    "sub_ADL.keys()[90:]"
   ]
  },
  {
   "cell_type": "code",
   "execution_count": 19,
   "metadata": {},
   "outputs": [
    {
     "output_type": "execute_result",
     "data": {
      "text/plain": [
       "ADLRawData_CreationTime\n",
       "2017-04-29 12:39:26.313943    0.000000\n",
       "2017-04-29 12:39:26.313943    0.000000\n",
       "2017-04-29 14:29:44.064030    0.000000\n",
       "2017-04-29 14:29:44.064030    0.000000\n",
       "2017-04-29 21:26:06.340520    1.876087\n",
       "                                ...   \n",
       "2020-03-05 12:45:06.096467    4.463923\n",
       "2020-03-05 12:46:55.406801    1.487381\n",
       "2020-03-05 12:47:28.087881    0.121605\n",
       "2020-03-05 12:47:52.724813    0.153659\n",
       "2020-03-05 12:50:28.816529    0.332091\n",
       "Name: ADLProperties_MeanVolumeControlLevelPerPreset_0, Length: 1792496, dtype: float64"
      ]
     },
     "metadata": {},
     "execution_count": 19
    }
   ],
   "source": [
    "abs(sub_ADL['ADLProperties_MeanVolumeControlLevelPerPreset_0'])"
   ]
  },
  {
   "cell_type": "code",
   "execution_count": 20,
   "metadata": {},
   "outputs": [],
   "source": [
    "#make column with only positive volume control changes\n",
    "sub_ADL['MeanVolume'] = abs(sub_ADL['ADLProperties_MeanVolumeControlLevelPerPreset_0'])"
   ]
  },
  {
   "cell_type": "code",
   "execution_count": 21,
   "metadata": {},
   "outputs": [
    {
     "output_type": "execute_result",
     "data": {
      "text/plain": [
       "ADLRawData_CreationTime\n",
       "2017-04-29 12:39:26.313943    0.000000\n",
       "2017-04-29 12:39:26.313943    0.000000\n",
       "2017-04-29 14:29:44.064030    0.000000\n",
       "2017-04-29 14:29:44.064030    0.000000\n",
       "2017-04-29 21:26:06.340520    1.876087\n",
       "                                ...   \n",
       "2020-03-05 12:45:06.096467    4.463923\n",
       "2020-03-05 12:46:55.406801    1.487381\n",
       "2020-03-05 12:47:28.087881    0.121605\n",
       "2020-03-05 12:47:52.724813    0.153659\n",
       "2020-03-05 12:50:28.816529    0.332091\n",
       "Name: MeanVolume, Length: 1792496, dtype: float64"
      ]
     },
     "metadata": {},
     "execution_count": 21
    }
   ],
   "source": [
    "sub_ADL['MeanVolume']"
   ]
  },
  {
   "cell_type": "code",
   "execution_count": 18,
   "metadata": {
    "tags": []
   },
   "outputs": [
    {
     "output_type": "stream",
     "name": "stdout",
     "text": [
      "0\n",
      "1000\n",
      "2000\n",
      "3000\n",
      "4000\n",
      "5000\n",
      "6000\n",
      "7000\n",
      "8000\n",
      "9000\n",
      "10000\n",
      "11000\n",
      "12000\n",
      "13000\n",
      "14000\n",
      "15000\n",
      "16000\n",
      "17000\n",
      "18000\n",
      "19000\n",
      "20000\n",
      "21000\n",
      "22000\n",
      "23000\n",
      "24000\n",
      "25000\n",
      "26000\n",
      "27000\n",
      "28000\n",
      "29000\n",
      "30000\n",
      "31000\n",
      "32000\n",
      "33000\n",
      "34000\n",
      "35000\n",
      "36000\n",
      "37000\n",
      "38000\n",
      "39000\n",
      "40000\n",
      "41000\n",
      "42000\n"
     ]
    }
   ],
   "source": [
    "#now do the filtering of data before return\n",
    "from random import randrange\n",
    "\n",
    "colmn = ['ADLProperties_TotalUseTime',\n",
    "'ADLProperties_NumberOfDeviceBoots',\n",
    "'ADLProperties_NumberOfPowerDowns',\n",
    "'ADLProperties_NumberOfPresetSwitches',\n",
    "'HearingInstrumentId',\n",
    "'MeanVolume',\n",
    "'ADLProperties_HistogramOnInputPowerPreset1_0',\n",
    "'ADLProperties_HistogramOnInputPowerPreset1_1',\n",
    "'ADLProperties_HistogramOnInputPowerPreset1_2',\n",
    "'ADLProperties_HistogramOnInputPowerPreset1_3',\n",
    "'ADLProperties_HistogramOnInputPowerPreset1_4',\n",
    "'ADLProperties_HistogramOnInputPowerPreset1_5',\n",
    "'ADLProperties_HistogramOnInputPowerPreset1_6',\n",
    "'ADLProperties_HistogramOnClassifiedEnvironmentPerPreset_0_0',\n",
    "'ADLProperties_HistogramOnClassifiedEnvironmentPerPreset_0_1',\n",
    "'ADLProperties_HistogramOnClassifiedEnvironmentPerPreset_0_2',\n",
    "'ADLProperties_HistogramOnClassifiedEnvironmentPerPreset_0_3',\n",
    "'ADLProperties_HistogramOnClassifiedEnvironmentPerPreset_0_4',\n",
    "'ADLProperties_HistogramOnClassifiedEnvironmentPerPreset_0_5',\n",
    "'ADLProperties_HistogramOnClassifiedEnvironmentPerPreset_0_6']\n",
    "\n",
    "sub_sub_ADL = sub_ADL[colmn]\n",
    "\n",
    "cnt = 0\n",
    "prereturn = []\n",
    "\n",
    "for hi_id, group in sub_sub_ADL.groupby('HearingInstrumentId'):        \n",
    "        if(cnt%1000 == 0):\n",
    "            print(cnt)\n",
    "            \n",
    "        if (hi_id in hi_id_last_ADL):  \n",
    "            \n",
    "            tmp = cleaned_df[cleaned_df['HearingInstrumentId'] == hi_id]\n",
    "            re_date = tmp['ReturnDate'].iloc[0]            \n",
    "                                                            \n",
    "            idx = group.index < re_date\n",
    "            \n",
    "            time_series = group[idx]                         \n",
    "            \n",
    "            prereturn.append(time_series)            \n",
    "          \n",
    "        else:\n",
    "                        \n",
    "            time_series = group #.iloc[0:randrange(group.shape[0])]                         \n",
    "            \n",
    "            prereturn.append(time_series) \n",
    "                     \n",
    "        cnt += 1        \n",
    "\n",
    "for_resample_df =pd.concat(prereturn)\n"
   ]
  },
  {
   "cell_type": "code",
   "execution_count": 19,
   "metadata": {
    "scrolled": true,
    "tags": []
   },
   "outputs": [
    {
     "output_type": "stream",
     "name": "stdout",
     "text": [
      "Resampled 1000 ADLs\n",
      "Resampled 2000 ADLs\n",
      "Resampled 3000 ADLs\n",
      "Resampled 4000 ADLs\n",
      "Resampled 5000 ADLs\n",
      "Resampled 6000 ADLs\n",
      "Resampled 7000 ADLs\n",
      "Resampled 8000 ADLs\n",
      "Resampled 9000 ADLs\n",
      "Resampled 10000 ADLs\n",
      "Resampled 11000 ADLs\n",
      "Resampled 12000 ADLs\n",
      "Resampled 13000 ADLs\n",
      "Resampled 14000 ADLs\n",
      "Resampled 15000 ADLs\n",
      "Resampled 16000 ADLs\n",
      "Resampled 17000 ADLs\n",
      "Resampled 18000 ADLs\n",
      "Resampled 19000 ADLs\n",
      "Resampled 20000 ADLs\n",
      "Resampled 21000 ADLs\n",
      "Resampled 22000 ADLs\n",
      "Resampled 23000 ADLs\n",
      "Resampled 24000 ADLs\n",
      "Resampled 25000 ADLs\n",
      "Resampled 26000 ADLs\n",
      "Resampled 27000 ADLs\n",
      "Resampled 28000 ADLs\n",
      "Resampled 29000 ADLs\n",
      "Resampled 30000 ADLs\n",
      "Resampled 31000 ADLs\n",
      "Resampled 32000 ADLs\n",
      "Resampled 33000 ADLs\n",
      "Resampled 34000 ADLs\n",
      "Resampled 35000 ADLs\n",
      "Resampled 36000 ADLs\n",
      "Resampled 37000 ADLs\n",
      "Resampled 38000 ADLs\n",
      "Resampled 39000 ADLs\n",
      "Resampled 40000 ADLs\n",
      "Resampled 41000 ADLs\n",
      "Resampled 42000 ADLs\n"
     ]
    }
   ],
   "source": [
    "#now resample all columns\n",
    "resampled_time_series= []\n",
    "appended_df = []\n",
    "\n",
    "colmn = ['ADLProperties_TotalUseTime',\n",
    "'ADLProperties_NumberOfDeviceBoots',\n",
    "'ADLProperties_NumberOfPowerDowns',\n",
    "'ADLProperties_NumberOfPresetSwitches',\n",
    "'ADLProperties_HistogramOnInputPowerPreset1_0',\n",
    "'ADLProperties_HistogramOnInputPowerPreset1_1',\n",
    "'ADLProperties_HistogramOnInputPowerPreset1_2',\n",
    "'ADLProperties_HistogramOnInputPowerPreset1_3',\n",
    "'ADLProperties_HistogramOnInputPowerPreset1_4',\n",
    "'ADLProperties_HistogramOnInputPowerPreset1_5',\n",
    "'ADLProperties_HistogramOnInputPowerPreset1_6',\n",
    "'ADLProperties_HistogramOnClassifiedEnvironmentPerPreset_0_0',\n",
    "'ADLProperties_HistogramOnClassifiedEnvironmentPerPreset_0_1',\n",
    "'ADLProperties_HistogramOnClassifiedEnvironmentPerPreset_0_2',\n",
    "'ADLProperties_HistogramOnClassifiedEnvironmentPerPreset_0_3',\n",
    "'ADLProperties_HistogramOnClassifiedEnvironmentPerPreset_0_4',\n",
    "'ADLProperties_HistogramOnClassifiedEnvironmentPerPreset_0_5',\n",
    "'ADLProperties_HistogramOnClassifiedEnvironmentPerPreset_0_6']\n",
    "\n",
    "cnt = 0\n",
    "appended_df = []\n",
    "for hi_id, group in for_resample_df.groupby('HearingInstrumentId'):\n",
    "    cnt += 1\n",
    "    if (cnt % 1000 == 0):\n",
    "        print(\"Resampled \" + str(cnt) + \" ADLs\")\n",
    "    time_series = group    \n",
    "    time_series = time_series.loc[~time_series.index.duplicated(keep='last')]\n",
    "    time_series = time_series.sort_index()\n",
    "    \n",
    "    r_time_series = pd.concat([time_series[colmn].diff().resample('W').sum().interpolate(method = 'linear'),\\\n",
    "                               time_series['MeanVolume'].resample('W').sum().interpolate(method = 'linear')], axis = 1)\n",
    "\n",
    "        \n",
    "    for colname, col in r_time_series.iteritems():\n",
    "        bin = col ==0\n",
    "        if bin.iloc[-1]==True:\n",
    "            continue\n",
    "        for i in np.arange(col.shape[0]):\n",
    "            start_row = i\n",
    "            replace_rows = []\n",
    "            n = 0\n",
    "            #print(\"Start row : \" + str(start_row))\n",
    "            while (bin[start_row] == True):\n",
    "                replace_rows.append(start_row)\n",
    "                start_row = start_row + 1\n",
    "                n = n + 1\n",
    "                #print(\"Replace rows : \" + str(replace_rows))\n",
    "            if len(replace_rows) > 0:\n",
    "                bin.iloc[replace_rows] = False            \n",
    "                replace_value = col.iloc[start_row] / (n+1)\n",
    "                col.iloc[replace_rows] = replace_value\n",
    "                col.iloc[start_row] = replace_value\n",
    "\n",
    "    resampled_time_series = r_time_series / 7\n",
    "    resampled_time_series['ADLRawData_HearingInstrumentId'] = hi_id\n",
    "         \n",
    "    appended_df.append(resampled_time_series)\n",
    "\n",
    "new_resampled_df = pd.concat(appended_df)"
   ]
  },
  {
   "cell_type": "code",
   "execution_count": null,
   "metadata": {},
   "outputs": [],
   "source": [
    "r_time_series"
   ]
  },
  {
   "cell_type": "code",
   "execution_count": 17,
   "metadata": {},
   "outputs": [],
   "source": [
    "new_resampled_df['class'] = 0\n",
    "new_resampled_df.loc[new_resampled_df['ADLRawData_HearingInstrumentId'].isin(hi_id_last_ADL), 'class'] = 1"
   ]
  },
  {
   "cell_type": "code",
   "execution_count": 18,
   "metadata": {},
   "outputs": [],
   "source": [
    "#saving the resampled file\n",
    "with open(base_path + 'resampled_last_ADL_before_return.pkl', 'wb') as handle:\n",
    "    pickle.dump(new_resampled_df, handle)\n",
    "    \n",
    "with open(base_path + 'hi_id_ADL_before_return.pkl', 'wb') as handle:\n",
    "    pickle.dump(hi_id_last_ADL, handle)\n",
    "\n",
    "    "
   ]
  },
  {
   "cell_type": "code",
   "execution_count": null,
   "metadata": {},
   "outputs": [],
   "source": []
  }
 ],
 "metadata": {
  "kernelspec": {
   "name": "python3",
   "display_name": "Python 3.7.9 64-bit",
   "metadata": {
    "interpreter": {
     "hash": "767d51c1340bd893661ea55ea3124f6de3c7a262a8b4abca0554b478b1e2ff90"
    }
   }
  },
  "language_info": {
   "codemirror_mode": {
    "name": "ipython",
    "version": 3
   },
   "file_extension": ".py",
   "mimetype": "text/x-python",
   "name": "python",
   "nbconvert_exporter": "python",
   "pygments_lexer": "ipython3",
   "version": "3.7.9-final"
  }
 },
 "nbformat": 4,
 "nbformat_minor": 4
}