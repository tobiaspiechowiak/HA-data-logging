{
 "cells": [
  {
   "cell_type": "code",
   "execution_count": 1,
   "metadata": {},
   "outputs": [],
   "source": [
    "#loading some stuff \n",
    "import matplotlib.pyplot as plt\n",
    "import matplotlib\n",
    "import numpy as np\n",
    "import pandas as pd\n",
    "import pickle"
   ]
  },
  {
   "cell_type": "code",
   "execution_count": 2,
   "metadata": {},
   "outputs": [],
   "source": [
    "base_path = 'c:/Users/tpiechowiak/OneDrive - GN Store Nord/GNOS data/'"
   ]
  },
  {
   "cell_type": "code",
   "execution_count": 3,
   "metadata": {},
   "outputs": [
    {
     "name": "stdout",
     "output_type": "stream",
     "text": [
      "Read cnn inputs from pickle file\n",
      "Read cnn classes from pickle file\n"
     ]
    }
   ],
   "source": [
    "with open(base_path + \"CNN_input.pkl\", \"rb\") as input_file:\n",
    "    CNN_input = pickle.load(input_file)\n",
    "print(\"Read cnn inputs from pickle file\")\n",
    "\n",
    "with open(base_path + \"CNN_classes.pkl\", \"rb\") as input_file:\n",
    "    CNN_classes = pickle.load(input_file)\n",
    "print(\"Read cnn classes from pickle file\")\n"
   ]
  },
  {
   "cell_type": "code",
   "execution_count": null,
   "metadata": {},
   "outputs": [],
   "source": []
  },
  {
   "cell_type": "code",
   "execution_count": 4,
   "metadata": {},
   "outputs": [],
   "source": [
    "#prepare for CNN \n",
    "Y_ = np.zeros((CNN_classes.shape[0],1))\n",
    "Y_[np.where(CNN_classes == 1)] = 1\n",
    "\n",
    "X_ = CNN_input.reshape(CNN_input.shape[0],12,1)"
   ]
  },
  {
   "cell_type": "code",
   "execution_count": 5,
   "metadata": {},
   "outputs": [
    {
     "name": "stderr",
     "output_type": "stream",
     "text": [
      "Using TensorFlow backend.\n"
     ]
    }
   ],
   "source": [
    "from keras.models import Sequential\n",
    "from keras.layers import Dense\n",
    "from keras.layers import Conv1D\n",
    "from keras.layers import MaxPooling1D\n",
    "from keras.layers import Flatten\n",
    "from keras.layers import Dropout\n",
    "from sklearn.model_selection import train_test_split\n",
    "from keras.utils.np_utils import to_categorical\n",
    "from keras import models"
   ]
  },
  {
   "cell_type": "code",
   "execution_count": 6,
   "metadata": {},
   "outputs": [],
   "source": [
    "#now one-hot encode\n",
    "Y_OHC = to_categorical(Y_)"
   ]
  },
  {
   "cell_type": "code",
   "execution_count": 7,
   "metadata": {},
   "outputs": [],
   "source": [
    "#make train, test data\n",
    "trainX, testX, trainY, testY = train_test_split(X_, Y_OHC, test_size=0.20, random_state=42)"
   ]
  },
  {
   "cell_type": "code",
   "execution_count": 8,
   "metadata": {
    "scrolled": true
   },
   "outputs": [],
   "source": [
    "n_timesteps, n_features, n_outputs = trainX.shape[1], trainX.shape[2], trainY.shape[1]"
   ]
  },
  {
   "cell_type": "code",
   "execution_count": 9,
   "metadata": {},
   "outputs": [
    {
     "data": {
      "text/plain": [
       "2"
      ]
     },
     "execution_count": 9,
     "metadata": {},
     "output_type": "execute_result"
    }
   ],
   "source": [
    "n_outputs"
   ]
  },
  {
   "cell_type": "code",
   "execution_count": 211,
   "metadata": {},
   "outputs": [
    {
     "data": {
      "text/plain": [
       "(array([0., 1.], dtype=float32), array([[ 8.9773024],\n",
       "        [16.5997312],\n",
       "        [13.4636224],\n",
       "        [12.8073152],\n",
       "        [12.064704 ],\n",
       "        [13.6296832],\n",
       "        [15.0730432],\n",
       "        [15.6085248],\n",
       "        [12.4899744],\n",
       "        [12.4899744],\n",
       "        [10.6231296],\n",
       "        [10.6231296]]))"
      ]
     },
     "execution_count": 211,
     "metadata": {},
     "output_type": "execute_result"
    }
   ],
   "source": [
    "testY[1829], testX[1829]"
   ]
  },
  {
   "cell_type": "code",
   "execution_count": 61,
   "metadata": {},
   "outputs": [
    {
     "name": "stdout",
     "output_type": "stream",
     "text": [
      "Model: \"sequential_3\"\n",
      "_________________________________________________________________\n",
      "Layer (type)                 Output Shape              Param #   \n",
      "=================================================================\n",
      "conv1d_3 (Conv1D)            (None, 9, 8)              40        \n",
      "_________________________________________________________________\n",
      "dropout_3 (Dropout)          (None, 9, 8)              0         \n",
      "_________________________________________________________________\n",
      "max_pooling1d_3 (MaxPooling1 (None, 4, 8)              0         \n",
      "_________________________________________________________________\n",
      "flatten_3 (Flatten)          (None, 32)                0         \n",
      "_________________________________________________________________\n",
      "dense_3 (Dense)              (None, 2)                 66        \n",
      "=================================================================\n",
      "Total params: 106\n",
      "Trainable params: 106\n",
      "Non-trainable params: 0\n",
      "_________________________________________________________________\n"
     ]
    }
   ],
   "source": [
    "#try an easy 1D conv \n",
    "model = Sequential()\n",
    "model.add(Conv1D(8,4, activation = 'relu',  input_shape=(n_timesteps,n_features)))\n",
    "model.add(Dropout(0.5)) \n",
    "model.add(MaxPooling1D(pool_size = 2))\n",
    "model.add(Flatten())\n",
    "model.add(Dense(n_outputs, activation='softmax'))\n",
    "model.compile(loss='categorical_crossentropy', optimizer='adam', metrics=['accuracy'])\n",
    "model.summary()\n",
    "        "
   ]
  },
  {
   "cell_type": "code",
   "execution_count": 62,
   "metadata": {},
   "outputs": [
    {
     "name": "stdout",
     "output_type": "stream",
     "text": [
      "Train on 25372 samples, validate on 6344 samples\n",
      "Epoch 1/10\n",
      "25372/25372 [==============================] - 3s 99us/step - loss: 0.2155 - accuracy: 0.9585 - val_loss: 0.1666 - val_accuracy: 0.9683\n",
      "Epoch 2/10\n",
      "25372/25372 [==============================] - 2s 76us/step - loss: 0.1487 - accuracy: 0.9715 - val_loss: 0.1556 - val_accuracy: 0.9683\n",
      "Epoch 3/10\n",
      "25372/25372 [==============================] - 2s 75us/step - loss: 0.1404 - accuracy: 0.9716 - val_loss: 0.1444 - val_accuracy: 0.9683\n",
      "Epoch 4/10\n",
      "25372/25372 [==============================] - 2s 74us/step - loss: 0.1366 - accuracy: 0.9716 - val_loss: 0.1437 - val_accuracy: 0.9683\n",
      "Epoch 5/10\n",
      "25372/25372 [==============================] - 2s 76us/step - loss: 0.1332 - accuracy: 0.9716 - val_loss: 0.1415 - val_accuracy: 0.9683\n",
      "Epoch 6/10\n",
      "25372/25372 [==============================] - 2s 75us/step - loss: 0.1314 - accuracy: 0.9715 - val_loss: 0.1405 - val_accuracy: 0.9683\n",
      "Epoch 7/10\n",
      "25372/25372 [==============================] - 2s 75us/step - loss: 0.1313 - accuracy: 0.9716 - val_loss: 0.1414 - val_accuracy: 0.9683\n",
      "Epoch 8/10\n",
      "25372/25372 [==============================] - 2s 77us/step - loss: 0.1305 - accuracy: 0.9716 - val_loss: 0.1416 - val_accuracy: 0.9683\n",
      "Epoch 9/10\n",
      "25372/25372 [==============================] - 2s 76us/step - loss: 0.1301 - accuracy: 0.9716 - val_loss: 0.1394 - val_accuracy: 0.9683\n",
      "Epoch 10/10\n",
      "25372/25372 [==============================] - 2s 80us/step - loss: 0.1290 - accuracy: 0.9716 - val_loss: 0.1394 - val_accuracy: 0.9683\n"
     ]
    },
    {
     "data": {
      "text/plain": [
       "<keras.callbacks.callbacks.History at 0x285ac8d4470>"
      ]
     },
     "execution_count": 62,
     "metadata": {},
     "output_type": "execute_result"
    }
   ],
   "source": [
    "#model fitting\n",
    "model.fit(trainX, trainY, epochs=10, batch_size=32, validation_split = 0.2)"
   ]
  },
  {
   "cell_type": "code",
   "execution_count": 64,
   "metadata": {},
   "outputs": [
    {
     "name": "stdout",
     "output_type": "stream",
     "text": [
      "7929/7929 [==============================] - 0s 24us/step\n"
     ]
    },
    {
     "data": {
      "text/plain": [
       "[0.1393667744055178, 0.9682179093360901]"
      ]
     },
     "execution_count": 64,
     "metadata": {},
     "output_type": "execute_result"
    }
   ],
   "source": [
    "model.evaluate(testX,testY,verbose=1)"
   ]
  },
  {
   "cell_type": "code",
   "execution_count": 65,
   "metadata": {},
   "outputs": [
    {
     "data": {
      "text/plain": [
       "Text(0, 0.5, 'True Positives')"
      ]
     },
     "execution_count": 65,
     "metadata": {},
     "output_type": "execute_result"
    },
    {
     "data": {
      "image/png": "[encoded data removed]",
      "text/plain": [
       "<Figure size 432x288 with 1 Axes>"
      ]
     },
     "metadata": {
      "needs_background": "light"
     },
     "output_type": "display_data"
    }
   ],
   "source": [
    "#plot ROC curve \n",
    "from sklearn.metrics import roc_curve\n",
    "from sklearn.metrics import auc\n",
    "import matplotlib.pyplot as plt \n",
    "y_pred_keras = model.predict(testX).ravel()\n",
    "fpr_keras, tpr_keras, thresholds_keras = roc_curve(testY.ravel(), y_pred_keras)\n",
    "\n",
    "plt.plot(fpr_keras, tpr_keras)\n",
    "plt.xlabel('False Positives',fontsize=14)\n",
    "plt.ylabel('True Positives',fontsize=14)"
   ]
  },
  {
   "cell_type": "code",
   "execution_count": 207,
   "metadata": {},
   "outputs": [
    {
     "data": {
      "text/plain": [
       "array([   7,    7,   15,   15,   84,   84,   90,   90,   91,   91,  124,\n",
       "        124,  154,  154,  210,  210,  251,  251,  271,  271,  344,  344,\n",
       "        346,  346,  349,  349,  353,  353,  365,  365,  393,  393,  402,\n",
       "        402,  438,  438,  595,  595,  660,  660,  669,  669,  693,  693,\n",
       "        719,  719,  759,  759,  761,  761,  776,  776,  786,  786,  789,\n",
       "        789,  793,  793,  848,  848,  850,  850,  896,  896,  922,  922,\n",
       "        950,  950,  960,  960,  977,  977,  982,  982, 1038, 1038, 1121,\n",
       "       1121, 1134, 1134, 1181, 1181, 1347, 1347, 1353, 1353, 1364, 1364,\n",
       "       1373, 1373, 1449, 1449, 1462, 1462, 1468, 1468, 1492, 1492, 1537,\n",
       "       1537, 1538, 1538, 1566, 1566, 1597, 1597, 1601, 1601, 1608, 1608,\n",
       "       1633, 1633, 1703, 1703, 1720, 1720, 1728, 1728, 1778, 1778, 1819,\n",
       "       1819, 1825, 1825, 1829, 1829, 1830, 1830, 1893, 1893, 1895, 1895,\n",
       "       1908, 1908, 1924, 1924, 1928, 1928, 1934, 1934, 1958, 1958, 1986,\n",
       "       1986, 1987, 1987, 2054, 2054, 2075, 2075, 2086, 2086, 2093, 2093,\n",
       "       2149, 2149, 2150, 2150, 2166, 2166, 2180, 2180, 2233, 2233, 2254,\n",
       "       2254, 2305, 2305, 2351, 2351, 2388, 2388, 2390, 2390, 2402, 2402,\n",
       "       2466, 2466, 2533, 2533, 2554, 2554, 2557, 2557, 2676, 2676, 2692,\n",
       "       2692, 2699, 2699, 2715, 2715, 2716, 2716, 2717, 2717, 2718, 2718,\n",
       "       2805, 2805, 2810, 2810, 2811, 2811, 2840, 2840, 2874, 2874, 2944,\n",
       "       2944, 2960, 2960, 2962, 2962, 3071, 3071, 3198, 3198, 3242, 3242,\n",
       "       3259, 3259, 3308, 3308, 3327, 3327, 3409, 3409, 3424, 3424, 3516,\n",
       "       3516, 3536, 3536, 3548, 3548, 3553, 3553, 3661, 3661, 3702, 3702,\n",
       "       3713, 3713, 3729, 3729, 3753, 3753, 3788, 3788, 3799, 3799, 3867,\n",
       "       3867, 3882, 3882, 3952, 3952, 3972, 3972, 3986, 3986, 4020, 4020,\n",
       "       4051, 4051, 4085, 4085, 4139, 4139, 4238, 4238, 4244, 4244, 4248,\n",
       "       4248, 4267, 4267, 4316, 4316, 4363, 4363, 4373, 4373, 4385, 4385,\n",
       "       4421, 4421, 4493, 4493, 4495, 4495, 4541, 4541, 4641, 4641, 4650,\n",
       "       4650, 4651, 4651, 4663, 4663, 4685, 4685, 4697, 4697, 4700, 4700,\n",
       "       4704, 4704, 4738, 4738, 4744, 4744, 4761, 4761, 4827, 4827, 4860,\n",
       "       4860, 4873, 4873, 4944, 4944, 4986, 4986, 5046, 5046, 5084, 5084,\n",
       "       5139, 5139, 5141, 5141, 5143, 5143, 5171, 5171, 5173, 5173, 5196,\n",
       "       5196, 5201, 5201, 5216, 5216, 5229, 5229, 5233, 5233, 5269, 5269,\n",
       "       5334, 5334, 5386, 5386, 5414, 5414, 5421, 5421, 5436, 5436, 5480,\n",
       "       5480, 5491, 5491, 5542, 5542, 5569, 5569, 5611, 5611, 5618, 5618,\n",
       "       5638, 5638, 5763, 5763, 5764, 5764, 5788, 5788, 5826, 5826, 5827,\n",
       "       5827, 5832, 5832, 5836, 5836, 5853, 5853, 5856, 5856, 5884, 5884,\n",
       "       5906, 5906, 5979, 5979, 5993, 5993, 6026, 6026, 6171, 6171, 6174,\n",
       "       6174, 6271, 6271, 6301, 6301, 6362, 6362, 6383, 6383, 6393, 6393,\n",
       "       6395, 6395, 6412, 6412, 6431, 6431, 6454, 6454, 6524, 6524, 6597,\n",
       "       6597, 6610, 6610, 6713, 6713, 6749, 6749, 6770, 6770, 6807, 6807,\n",
       "       6816, 6816, 6877, 6877, 6912, 6912, 6914, 6914, 6939, 6939, 6954,\n",
       "       6954, 6987, 6987, 7013, 7013, 7042, 7042, 7125, 7125, 7197, 7197,\n",
       "       7239, 7239, 7253, 7253, 7291, 7291, 7310, 7310, 7384, 7384, 7386,\n",
       "       7386, 7397, 7397, 7471, 7471, 7498, 7498, 7513, 7513, 7524, 7524,\n",
       "       7548, 7548, 7611, 7611, 7615, 7615, 7623, 7623, 7761, 7761, 7767,\n",
       "       7767, 7772, 7772, 7785, 7785, 7801, 7801, 7928, 7928], dtype=int64)"
      ]
     },
     "execution_count": 207,
     "metadata": {},
     "output_type": "execute_result"
    }
   ],
   "source": [
    "idx1, val1 = np.where(testY == [0,1])\n",
    "idx2, val2 = np.where(testY == [1,0])\n",
    "idx1"
   ]
  },
  {
   "cell_type": "code",
   "execution_count": 167,
   "metadata": {},
   "outputs": [],
   "source": [
    "#plot some activations \n",
    "layer_outputs = [layer.output for layer in model.layers[:-1]] \n",
    "# Extracts the outputs of the top 12 layers\n",
    "activation_model = models.Model(inputs=model.input, outputs=layer_outputs) # Creates a model that will return these outputs, given the model input\n",
    "activation_0 = activation_model.predict(testX[idx1])\n",
    "activation_1 = activation_model.predict(testX[idx2])"
   ]
  },
  {
   "cell_type": "code",
   "execution_count": 173,
   "metadata": {},
   "outputs": [
    {
     "data": {
      "text/plain": [
       "4"
      ]
     },
     "execution_count": 173,
     "metadata": {},
     "output_type": "execute_result"
    }
   ],
   "source": []
  },
  {
   "cell_type": "code",
   "execution_count": 204,
   "metadata": {},
   "outputs": [
    {
     "data": {
      "text/plain": [
       "[<matplotlib.lines.Line2D at 0x285b0719a20>,\n",
       " <matplotlib.lines.Line2D at 0x285b0719b38>,\n",
       " <matplotlib.lines.Line2D at 0x285b0719c88>,\n",
       " <matplotlib.lines.Line2D at 0x285b0719dd8>,\n",
       " <matplotlib.lines.Line2D at 0x285b0719f28>,\n",
       " <matplotlib.lines.Line2D at 0x285b07110b8>,\n",
       " <matplotlib.lines.Line2D at 0x285b0711208>,\n",
       " <matplotlib.lines.Line2D at 0x285b0711358>]"
      ]
     },
     "execution_count": 204,
     "metadata": {},
     "output_type": "execute_result"
    },
    {
     "data": {
      "image/png": "[encoded data removed]",
      "text/plain": [
       "<Figure size 720x216 with 2 Axes>"
      ]
     },
     "metadata": {
      "needs_background": "light"
     },
     "output_type": "display_data"
    }
   ],
   "source": [
    "fig, ax = plt.subplots(1,2, figsize=(10,3))\n",
    "\n",
    "ax[0].plot(activation_0[0][1,:,:])        \n",
    "ax[1].plot(activation_1[0][1,:,:])"
   ]
  },
  {
   "cell_type": "code",
   "execution_count": 185,
   "metadata": {},
   "outputs": [],
   "source": [
    "filters, biases = model.layers[0].get_weights()\n",
    "# normalize filter values to 0-1 so we can visualize them\n",
    "f_min, f_max = filters.min(), filters.max()\n",
    "filters = (filters - f_min) / (f_max - f_min)"
   ]
  },
  {
   "cell_type": "code",
   "execution_count": 186,
   "metadata": {},
   "outputs": [
    {
     "data": {
      "image/png": "[encoded data removed]",
      "text/plain": [
       "<Figure size 720x576 with 8 Axes>"
      ]
     },
     "metadata": {},
     "output_type": "display_data"
    }
   ],
   "source": [
    "fig, ax = plt.subplots(8,1, figsize = (10,8))\n",
    "n_filters = 8\n",
    "for i in range(0,n_filters):\n",
    "    # get the filter\n",
    "    f = filters[:, :, i]\n",
    "    # plot each channel separately    \n",
    "    # specify subplot and turn of axis\n",
    "    ax[i].plot(f)\n",
    "    ax[i].set_xticks([])\n",
    "    ax[i].set_yticks([])\n",
    "    # plot filter channel in grayscale\n",
    "    # show the figure\n",
    "plt.show()"
   ]
  },
  {
   "cell_type": "code",
   "execution_count": 130,
   "metadata": {},
   "outputs": [
    {
     "data": {
      "text/plain": [
       "(array([0.02629695, 0.03395177, 0.03837309, 0.03616243, 0.03540355,\n",
       "        0.03784517, 0.03774619, 0.03975888, 0.04553299, 0.04718273,\n",
       "        0.05279187, 0.05784009, 0.06849745, 0.07799999, 0.08803045,\n",
       "        0.10317511, 0.1129746 , 0.12254313, 0.09726902, 0.06335025,\n",
       "        0.02929949, 0.00986548, 0.00376142, 0.00135279, 0.0006599 ,\n",
       "        0.0006269 , 0.00026396, 0.00023096, 0.00036294, 0.00019797]),\n",
       " array([2.45843478e-04, 7.88052149e-01, 1.57585845e+00, 2.36366476e+00,\n",
       "        3.15147107e+00, 3.93927737e+00, 4.72708368e+00, 5.51488998e+00,\n",
       "        6.30269629e+00, 7.09050259e+00, 7.87830890e+00, 8.66611521e+00,\n",
       "        9.45392151e+00, 1.02417278e+01, 1.10295341e+01, 1.18173404e+01,\n",
       "        1.26051467e+01, 1.33929530e+01, 1.41807593e+01, 1.49685657e+01,\n",
       "        1.57563720e+01, 1.65441783e+01, 1.73319846e+01, 1.81197909e+01,\n",
       "        1.89075972e+01, 1.96954035e+01, 2.04832098e+01, 2.12710161e+01,\n",
       "        2.20588224e+01, 2.28466287e+01, 2.36344350e+01]),\n",
       " <a list of 30 Patch objects>)"
      ]
     },
     "execution_count": 130,
     "metadata": {},
     "output_type": "execute_result"
    },
    {
     "data": {
      "image/png": "[encoded data removed]",
      "text/plain": [
       "<Figure size 720x576 with 1 Axes>"
      ]
     },
     "metadata": {
      "needs_background": "light"
     },
     "output_type": "display_data"
    }
   ],
   "source": [
    "fig = plt.figure(figsize = (10,8))\n",
    "plt.hist(CNN_input[np.where(CNN_classes == 1)].mean(axis=1), color = 'b', alpha = 0.2, density= True, bins = 30)\n",
    "plt.hist(CNN_input[np.where(CNN_classes == 0)].mean(axis=1), color = 'g', alpha = 0.2, density= True, bins = 30)"
   ]
  },
  {
   "cell_type": "code",
   "execution_count": 145,
   "metadata": {},
   "outputs": [],
   "source": [
    "rng = randrange(len(idx1))"
   ]
  },
  {
   "cell_type": "code",
   "execution_count": 146,
   "metadata": {},
   "outputs": [
    {
     "data": {
      "text/plain": [
       "251"
      ]
     },
     "execution_count": 146,
     "metadata": {},
     "output_type": "execute_result"
    }
   ],
   "source": [
    "rng"
   ]
  },
  {
   "cell_type": "code",
   "execution_count": null,
   "metadata": {},
   "outputs": [],
   "source": []
  }
 ],
 "metadata": {
  "kernelspec": {
   "display_name": "Python 3",
   "language": "python",
   "name": "python3"
  },
  "language_info": {
   "codemirror_mode": {
    "name": "ipython",
    "version": 3
   },
   "file_extension": ".py",
   "mimetype": "text/x-python",
   "name": "python",
   "nbconvert_exporter": "python",
   "pygments_lexer": "ipython3",
   "version": "3.7.6"
  }
 },
 "nbformat": 4,
 "nbformat_minor": 2
}
